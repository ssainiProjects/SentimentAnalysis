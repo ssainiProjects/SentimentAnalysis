{
 "cells": [
  {
   "cell_type": "code",
   "execution_count": 18,
   "id": "e84006ad",
   "metadata": {},
   "outputs": [],
   "source": [
    "# SENTIMENT ANALYSIS: Amazon Customer Reviews\n",
    "\n",
    "# The aim is to classify reviews into categories: positive, negative, or neutral. This can provide \n",
    "# valuable insights for businesses to understand customer sentiment and improve their products or services.\n",
    "\n",
    "\n",
    "# Load the Amazon Customer Review Dataset\n",
    "\n",
    "import pandas as pd\n",
    "df = pd.read_csv(\"C:\\\\Users\\\\ssain\\\\Downloads\\\\amazondata.csv\", low_memory=False)"
   ]
  },
  {
   "cell_type": "code",
   "execution_count": 19,
   "id": "44a2a3d1",
   "metadata": {},
   "outputs": [
    {
     "data": {
      "text/html": [
       "<div>\n",
       "<style scoped>\n",
       "    .dataframe tbody tr th:only-of-type {\n",
       "        vertical-align: middle;\n",
       "    }\n",
       "\n",
       "    .dataframe tbody tr th {\n",
       "        vertical-align: top;\n",
       "    }\n",
       "\n",
       "    .dataframe thead th {\n",
       "        text-align: right;\n",
       "    }\n",
       "</style>\n",
       "<table border=\"1\" class=\"dataframe\">\n",
       "  <thead>\n",
       "    <tr style=\"text-align: right;\">\n",
       "      <th></th>\n",
       "      <th>Helpful Votes (bin)</th>\n",
       "      <th>Number of Records</th>\n",
       "      <th>Star Rating (bin)</th>\n",
       "      <th>Customer Id</th>\n",
       "      <th>Helpful Votes</th>\n",
       "      <th>Overall Votes</th>\n",
       "      <th>Product Id</th>\n",
       "      <th>Review Body</th>\n",
       "      <th>Review Year</th>\n",
       "      <th>Review Headline</th>\n",
       "      <th>Star Rating</th>\n",
       "    </tr>\n",
       "  </thead>\n",
       "  <tbody>\n",
       "    <tr>\n",
       "      <th>0</th>\n",
       "      <td>0</td>\n",
       "      <td>1</td>\n",
       "      <td>0</td>\n",
       "      <td>NaN</td>\n",
       "      <td>4.0</td>\n",
       "      <td>14.0</td>\n",
       "      <td>26009102</td>\n",
       "      <td>You will love this book.  It is a hard long re...</td>\n",
       "      <td>03/17/2005 0:00</td>\n",
       "      <td>Best Book Ever</td>\n",
       "      <td>5.0</td>\n",
       "    </tr>\n",
       "    <tr>\n",
       "      <th>1</th>\n",
       "      <td>NaN</td>\n",
       "      <td>1</td>\n",
       "      <td>NaN</td>\n",
       "      <td>NaN</td>\n",
       "      <td>NaN</td>\n",
       "      <td>NaN</td>\n",
       "      <td>7491727</td>\n",
       "      <td>This is the UK edition of Dr. Omit's book. Dr....</td>\n",
       "      <td>NaN</td>\n",
       "      <td>researchers from John Hopkins School of Medici...</td>\n",
       "      <td>NaN</td>\n",
       "    </tr>\n",
       "    <tr>\n",
       "      <th>2</th>\n",
       "      <td>0</td>\n",
       "      <td>1</td>\n",
       "      <td>0</td>\n",
       "      <td>NaN</td>\n",
       "      <td>2.0</td>\n",
       "      <td>2.0</td>\n",
       "      <td>002782683X</td>\n",
       "      <td>This is a fun and entertaining book about lear...</td>\n",
       "      <td>06/25/2012 0:00</td>\n",
       "      <td>Michelle</td>\n",
       "      <td>5.0</td>\n",
       "    </tr>\n",
       "    <tr>\n",
       "      <th>3</th>\n",
       "      <td>0</td>\n",
       "      <td>1</td>\n",
       "      <td>0</td>\n",
       "      <td>NaN</td>\n",
       "      <td>0.0</td>\n",
       "      <td>0.0</td>\n",
       "      <td>60187271</td>\n",
       "      <td>Started a big slow, but once into it the autho...</td>\n",
       "      <td>06/09/2013 0:00</td>\n",
       "      <td>Loved the book</td>\n",
       "      <td>5.0</td>\n",
       "    </tr>\n",
       "    <tr>\n",
       "      <th>4</th>\n",
       "      <td>0</td>\n",
       "      <td>1</td>\n",
       "      <td>0</td>\n",
       "      <td>NaN</td>\n",
       "      <td>14.0</td>\n",
       "      <td>20.0</td>\n",
       "      <td>60392452</td>\n",
       "      <td>Received this book as a Christmas present. I h...</td>\n",
       "      <td>08/05/2003 0:00</td>\n",
       "      <td>Challenges your assumptions</td>\n",
       "      <td>4.0</td>\n",
       "    </tr>\n",
       "    <tr>\n",
       "      <th>...</th>\n",
       "      <td>...</td>\n",
       "      <td>...</td>\n",
       "      <td>...</td>\n",
       "      <td>...</td>\n",
       "      <td>...</td>\n",
       "      <td>...</td>\n",
       "      <td>...</td>\n",
       "      <td>...</td>\n",
       "      <td>...</td>\n",
       "      <td>...</td>\n",
       "      <td>...</td>\n",
       "    </tr>\n",
       "    <tr>\n",
       "      <th>128840</th>\n",
       "      <td>0</td>\n",
       "      <td>1</td>\n",
       "      <td>0</td>\n",
       "      <td>NaN</td>\n",
       "      <td>4.0</td>\n",
       "      <td>6.0</td>\n",
       "      <td>60529148</td>\n",
       "      <td>John Stossel explains within these pages how h...</td>\n",
       "      <td>05/19/2004 0:00</td>\n",
       "      <td>Heroic</td>\n",
       "      <td>4.0</td>\n",
       "    </tr>\n",
       "    <tr>\n",
       "      <th>128841</th>\n",
       "      <td>NaN</td>\n",
       "      <td>1</td>\n",
       "      <td>NaN</td>\n",
       "      <td>NaN</td>\n",
       "      <td>NaN</td>\n",
       "      <td>NaN</td>\n",
       "      <td>60579412</td>\n",
       "      <td>When Bill Clinton said that we were all cold w...</td>\n",
       "      <td>NaN</td>\n",
       "      <td>the record needed to be set straight.  Mona Ch...</td>\n",
       "      <td>NaN</td>\n",
       "    </tr>\n",
       "    <tr>\n",
       "      <th>128842</th>\n",
       "      <td>NaN</td>\n",
       "      <td>1</td>\n",
       "      <td>NaN</td>\n",
       "      <td>NaN</td>\n",
       "      <td>NaN</td>\n",
       "      <td>NaN</td>\n",
       "      <td>60184973</td>\n",
       "      <td>During her reign, Queen Mary foiled several pl...</td>\n",
       "      <td>NaN</td>\n",
       "      <td>Queen of Scots -- but then</td>\n",
       "      <td>NaN</td>\n",
       "    </tr>\n",
       "    <tr>\n",
       "      <th>128843</th>\n",
       "      <td>0</td>\n",
       "      <td>1</td>\n",
       "      <td>0</td>\n",
       "      <td>NaN</td>\n",
       "      <td>1.0</td>\n",
       "      <td>1.0</td>\n",
       "      <td>7444117</td>\n",
       "      <td>I just don't understand how this was supposed ...</td>\n",
       "      <td>03/26/2014 0:00</td>\n",
       "      <td>So upsetting</td>\n",
       "      <td>2.0</td>\n",
       "    </tr>\n",
       "    <tr>\n",
       "      <th>128844</th>\n",
       "      <td>0</td>\n",
       "      <td>1</td>\n",
       "      <td>0</td>\n",
       "      <td>NaN</td>\n",
       "      <td>0.0</td>\n",
       "      <td>0.0</td>\n",
       "      <td>7337701</td>\n",
       "      <td>No one can explain what seems to be the serend...</td>\n",
       "      <td>09/02/2013 0:00</td>\n",
       "      <td>ultimately real and insightful</td>\n",
       "      <td>5.0</td>\n",
       "    </tr>\n",
       "  </tbody>\n",
       "</table>\n",
       "<p>128845 rows × 11 columns</p>\n",
       "</div>"
      ],
      "text/plain": [
       "       Helpful Votes (bin) Number of Records Star Rating (bin)  Customer Id  \\\n",
       "0                        0                 1                 0          NaN   \n",
       "1                      NaN                 1               NaN          NaN   \n",
       "2                        0                 1                 0          NaN   \n",
       "3                        0                 1                 0          NaN   \n",
       "4                        0                 1                 0          NaN   \n",
       "...                    ...               ...               ...          ...   \n",
       "128840                   0                 1                 0          NaN   \n",
       "128841                 NaN                 1               NaN          NaN   \n",
       "128842                 NaN                 1               NaN          NaN   \n",
       "128843                   0                 1                 0          NaN   \n",
       "128844                   0                 1                 0          NaN   \n",
       "\n",
       "        Helpful Votes  Overall Votes  Product Id  \\\n",
       "0                 4.0           14.0    26009102   \n",
       "1                 NaN            NaN     7491727   \n",
       "2                 2.0            2.0  002782683X   \n",
       "3                 0.0            0.0    60187271   \n",
       "4                14.0           20.0    60392452   \n",
       "...               ...            ...         ...   \n",
       "128840            4.0            6.0    60529148   \n",
       "128841            NaN            NaN    60579412   \n",
       "128842            NaN            NaN    60184973   \n",
       "128843            1.0            1.0     7444117   \n",
       "128844            0.0            0.0     7337701   \n",
       "\n",
       "                                              Review Body      Review Year  \\\n",
       "0       You will love this book.  It is a hard long re...  03/17/2005 0:00   \n",
       "1       This is the UK edition of Dr. Omit's book. Dr....              NaN   \n",
       "2       This is a fun and entertaining book about lear...  06/25/2012 0:00   \n",
       "3       Started a big slow, but once into it the autho...  06/09/2013 0:00   \n",
       "4       Received this book as a Christmas present. I h...  08/05/2003 0:00   \n",
       "...                                                   ...              ...   \n",
       "128840  John Stossel explains within these pages how h...  05/19/2004 0:00   \n",
       "128841  When Bill Clinton said that we were all cold w...              NaN   \n",
       "128842  During her reign, Queen Mary foiled several pl...              NaN   \n",
       "128843  I just don't understand how this was supposed ...  03/26/2014 0:00   \n",
       "128844  No one can explain what seems to be the serend...  09/02/2013 0:00   \n",
       "\n",
       "                                          Review Headline  Star Rating  \n",
       "0                                          Best Book Ever          5.0  \n",
       "1       researchers from John Hopkins School of Medici...          NaN  \n",
       "2                                                Michelle          5.0  \n",
       "3                                          Loved the book          5.0  \n",
       "4                             Challenges your assumptions          4.0  \n",
       "...                                                   ...          ...  \n",
       "128840                                             Heroic          4.0  \n",
       "128841  the record needed to be set straight.  Mona Ch...          NaN  \n",
       "128842                         Queen of Scots -- but then          NaN  \n",
       "128843                                       So upsetting          2.0  \n",
       "128844                     ultimately real and insightful          5.0  \n",
       "\n",
       "[128845 rows x 11 columns]"
      ]
     },
     "execution_count": 19,
     "metadata": {},
     "output_type": "execute_result"
    }
   ],
   "source": [
    "# View the dataset\n",
    "df\n"
   ]
  },
  {
   "cell_type": "code",
   "execution_count": 20,
   "id": "715ac5c5",
   "metadata": {},
   "outputs": [
    {
     "data": {
      "text/plain": [
       "(128845, 11)"
      ]
     },
     "execution_count": 20,
     "metadata": {},
     "output_type": "execute_result"
    }
   ],
   "source": [
    "# Number of Rows and Columns:\n",
    "\n",
    "df.shape"
   ]
  },
  {
   "cell_type": "code",
   "execution_count": 21,
   "id": "69dac21d",
   "metadata": {},
   "outputs": [
    {
     "data": {
      "text/plain": [
       "Helpful Votes (bin)     object\n",
       "Number of Records       object\n",
       "Star Rating (bin)       object\n",
       "Customer Id            float64\n",
       "Helpful Votes          float64\n",
       "Overall Votes          float64\n",
       "Product Id              object\n",
       "Review Body             object\n",
       "Review Year             object\n",
       "Review Headline         object\n",
       "Star Rating            float64\n",
       "dtype: object"
      ]
     },
     "execution_count": 21,
     "metadata": {},
     "output_type": "execute_result"
    }
   ],
   "source": [
    "# column datatypes\n",
    "\n",
    "df.dtypes"
   ]
  },
  {
   "cell_type": "code",
   "execution_count": 22,
   "id": "4aefe611",
   "metadata": {},
   "outputs": [
    {
     "data": {
      "text/plain": [
       "Helpful Votes (bin)    13898\n",
       "Number of Records          2\n",
       "Star Rating (bin)      12534\n",
       "Customer Id            68865\n",
       "Helpful Votes          13902\n",
       "Overall Votes          12724\n",
       "Product Id                 5\n",
       "Review Body               11\n",
       "Review Year            13912\n",
       "Review Headline           14\n",
       "Star Rating            12540\n",
       "dtype: int64"
      ]
     },
     "execution_count": 22,
     "metadata": {},
     "output_type": "execute_result"
    }
   ],
   "source": [
    "# Missing values \n",
    "\n",
    "df.isnull().sum()"
   ]
  },
  {
   "cell_type": "markdown",
   "id": "d41e731b",
   "metadata": {},
   "source": [
    "DATA PREPROCESSING:"
   ]
  },
  {
   "cell_type": "code",
   "execution_count": 23,
   "id": "3440255a",
   "metadata": {},
   "outputs": [],
   "source": [
    "# The key tasks in this stage will be:\n",
    "\n",
    "# Handling Missing Values: Removing or imputing missing values in crucial columns like 'Review Body' and 'Star Rating'.\n",
    "\n",
    "# Type Conversion: Converting the data types of columns, if necessary.\n",
    "\n",
    "# Text Cleaning: Removing special characters, converting all text to lowercase, etc., in the 'Review Body' column."
   ]
  },
  {
   "cell_type": "code",
   "execution_count": 24,
   "id": "c1f0ef72",
   "metadata": {},
   "outputs": [],
   "source": [
    "# We have:\n",
    "\n",
    "# 11 missing values in the 'Review Body' column\n",
    "# 12,540 missing values in the 'Star Rating' column\n",
    "\n",
    "# Handling Missing Values:\n",
    "#'Review Body': Given that there are only 11 missing values, it's reasonable to simply remove these \n",
    "# rows from the dataset. The 'Review Body' is crucial for our text-based sentiment analysis.\n",
    "\n",
    "# 'Star Rating': We have a larger number of missing values here. Since we're planning to use 'Star Rating' \n",
    "# as labels for training our sentiment analysis model, rows with missing 'Star Rating' won't be useful.\n",
    "# We should consider removing these as well."
   ]
  },
  {
   "cell_type": "code",
   "execution_count": 25,
   "id": "74329bbc",
   "metadata": {},
   "outputs": [
    {
     "name": "stdout",
     "output_type": "stream",
     "text": [
      "Number of rows after cleaning: 116299\n",
      "Number of columns: 11\n",
      "Missing values in 'Review Body': 0\n",
      "Missing values in 'Star Rating': 0\n"
     ]
    }
   ],
   "source": [
    "# Remove rows with missing values in the key columns\n",
    "df_clean = df.dropna(subset=['Review Body', 'Star Rating']).copy()\n",
    "\n",
    "# Check the new dimensions of the DataFrame and verify the missing values are removed\n",
    "num_rows_clean, num_cols_clean = df_clean.shape\n",
    "missing_review_body_clean = df_clean['Review Body'].isnull().sum()\n",
    "missing_star_rating_clean = df_clean['Star Rating'].isnull().sum()\n",
    "\n",
    "print(f\"Number of rows after cleaning: {num_rows_clean}\")\n",
    "print(f\"Number of columns: {num_cols_clean}\")\n",
    "print(f\"Missing values in 'Review Body': {missing_review_body_clean}\")\n",
    "print(f\"Missing values in 'Star Rating': {missing_star_rating_clean}\")\n"
   ]
  },
  {
   "cell_type": "code",
   "execution_count": 26,
   "id": "c3fa5d98",
   "metadata": {},
   "outputs": [
    {
     "name": "stdout",
     "output_type": "stream",
     "text": [
      "                                         Review Body  \\\n",
      "0  You will love this book.  It is a hard long re...   \n",
      "2  This is a fun and entertaining book about lear...   \n",
      "3  Started a big slow, but once into it the autho...   \n",
      "4  Received this book as a Christmas present. I h...   \n",
      "6  Ugly Impostor, discernible face, self esteem r...   \n",
      "\n",
      "                                 Cleaned_Review_Body  \n",
      "0  you will love this book  it is a hard long rea...  \n",
      "2  this is a fun and entertaining book about lear...  \n",
      "3  started a big slow but once into it the author...  \n",
      "4  received this book as a christmas present i ha...  \n",
      "6  ugly impostor discernible face self esteem rel...  \n"
     ]
    }
   ],
   "source": [
    "# We'll remove special characters and convert all text to lowercase. \n",
    "\n",
    "# The expression re.sub(r'[^\\w\\s]', '', text) effectively removes all special characters\n",
    "# from the input text,leaving only alphanumeric characters and spaces.\n",
    "\n",
    "\n",
    "import re\n",
    "\n",
    "# Function to clean text\n",
    "def clean_text(text):\n",
    "    text = re.sub(r'[^\\w\\s]', '', text)  # Remove special characters\n",
    "    text = text.lower()  # Convert text to lowercase\n",
    "    return text\n",
    "\n",
    "# Apply the function to the 'Review Body' column\n",
    "df_clean['Cleaned_Review_Body'] = df_clean['Review Body'].apply(clean_text)\n",
    "\n",
    "# Check the first few rows to see the cleaned text\n",
    "print(df_clean[['Review Body', 'Cleaned_Review_Body']].head())\n"
   ]
  },
  {
   "cell_type": "code",
   "execution_count": 28,
   "id": "23317644",
   "metadata": {},
   "outputs": [
    {
     "name": "stdout",
     "output_type": "stream",
     "text": [
      "Unique values in 'Star Rating': [0.0, 1.0, 2.0, 3.0, 4.0, 5.0, 6.0, 7.0, 8.0, 9.0, 10.0, 11.0, 12.0, 13.0, 14.0, 15.0, 16.0, 17.0, 18.0, 19.0, 20.0, 21.0, 22.0, 23.0, 24.0, 25.0, 26.0, 27.0, 28.0, 29.0, 30.0, 31.0, 32.0, 33.0, 34.0, 35.0, 36.0, 37.0, 38.0, 40.0, 41.0, 42.0, 43.0, 44.0, 47.0, 49.0, 52.0, 53.0, 54.0, 57.0, 58.0, 62.0, 63.0, 64.0, 68.0, 69.0, 73.0, 74.0, 101.0, 102.0, 112.0, 119.0, 125.0, 131.0, 152.0, 159.0, 171.0, 177.0, 190.0, 235.0, 2008.0]\n"
     ]
    }
   ],
   "source": [
    "# Check unique values in 'Star Rating'\n",
    "unique_star_ratings = df_clean['Star Rating'].unique()\n",
    "print(f\"Unique values in 'Star Rating': {sorted(unique_star_ratings)}\")\n"
   ]
  },
  {
   "cell_type": "code",
   "execution_count": 29,
   "id": "54dc6388",
   "metadata": {},
   "outputs": [],
   "source": [
    "# remove rows which have star rating that are not between 1-5. These ratings are likely erroneous.\n",
    "df_filtered = df_clean[df_clean['Star Rating'].between(1, 5)]"
   ]
  },
  {
   "cell_type": "code",
   "execution_count": 34,
   "id": "b8c59bb7",
   "metadata": {},
   "outputs": [
    {
     "data": {
      "image/png": "[encoded data removed]",
      "text/plain": [
       "<Figure size 1000x600 with 1 Axes>"
      ]
     },
     "metadata": {},
     "output_type": "display_data"
    },
    {
     "data": {
      "text/plain": [
       "(115552, 12)"
      ]
     },
     "execution_count": 34,
     "metadata": {},
     "output_type": "execute_result"
    }
   ],
   "source": [
    "# plot the distribution of 'Star Rating'\n",
    "\n",
    "import matplotlib.pyplot as plt\n",
    "import seaborn as sns\n",
    "\n",
    "new_shape = df_filtered.shape\n",
    "\n",
    "\n",
    "plt.figure(figsize=(10, 6))\n",
    "sns.countplot(x='Star Rating', data=df_filtered)\n",
    "plt.title('Distribution of Star Ratings')\n",
    "plt.xlabel('Star Rating')\n",
    "plt.ylabel('Count')\n",
    "plt.show()\n",
    "\n",
    "new_shape"
   ]
  },
  {
   "cell_type": "code",
   "execution_count": null,
   "id": "6554cfb5",
   "metadata": {},
   "outputs": [],
   "source": []
  },
  {
   "cell_type": "markdown",
   "id": "4dd2a9d6",
   "metadata": {},
   "source": [
    "FEATURE ENGINEERING"
   ]
  },
  {
   "cell_type": "code",
   "execution_count": null,
   "id": "76dec7d6",
   "metadata": {},
   "outputs": [],
   "source": [
    "# In this stage, we'll convert the text data from the 'Review Body' column into a numerical format\n",
    "# that can be fed into machine learning algorithms.\n",
    "\n",
    "# For this project, let's start with the TF-IDF approach, which is a commonly used technique that takes into \n",
    "# account not just the occurrence of words in a single document (or review, in our case) but in the entire \n",
    "# corpus of documents."
   ]
  },
  {
   "cell_type": "code",
   "execution_count": 35,
   "id": "cd3607ec",
   "metadata": {},
   "outputs": [
    {
     "data": {
      "text/plain": [
       "(115552, 5000)"
      ]
     },
     "execution_count": 35,
     "metadata": {},
     "output_type": "execute_result"
    }
   ],
   "source": [
    "from sklearn.feature_extraction.text import TfidfVectorizer\n",
    "\n",
    "# Initialize the TF-IDF vectorizer\n",
    "tfidf_vectorizer = TfidfVectorizer(max_features=5000)  # Limit to 5000 most frequent words to save memory and processing time\n",
    "\n",
    "# Fit and transform the 'Cleaned_Review_Body' column\n",
    "tfidf_matrix = tfidf_vectorizer.fit_transform(df_filtered['Cleaned_Review_Body'])\n",
    "\n",
    "# Check the shape of the resulting TF-IDF matrix\n",
    "tfidf_shape = tfidf_matrix.shape\n",
    "tfidf_shape\n",
    "\n",
    "# The shape of the TF-IDF matrix indicates that we have successfully transformed 115,552 reviews into numerical \n",
    "# vectors, each containing the TF-IDF scores for up to 5,000 unique words. This matrix will serve as the input \n",
    "# for our machine learning model."
   ]
  },
  {
   "cell_type": "code",
   "execution_count": 36,
   "id": "1a1cb378",
   "metadata": {},
   "outputs": [
    {
     "name": "stderr",
     "output_type": "stream",
     "text": [
      "C:\\Users\\ssain\\AppData\\Local\\Temp\\ipykernel_22812\\3573777346.py:11: SettingWithCopyWarning: \n",
      "A value is trying to be set on a copy of a slice from a DataFrame.\n",
      "Try using .loc[row_indexer,col_indexer] = value instead\n",
      "\n",
      "See the caveats in the documentation: https://pandas.pydata.org/pandas-docs/stable/user_guide/indexing.html#returning-a-view-versus-a-copy\n",
      "  df_filtered['Label'] = df_filtered['Star Rating'].apply(create_label)\n"
     ]
    },
    {
     "data": {
      "text/plain": [
       "Positive    94898\n",
       "Negative    10598\n",
       "Neutral     10056\n",
       "Name: Label, dtype: int64"
      ]
     },
     "execution_count": 36,
     "metadata": {},
     "output_type": "execute_result"
    }
   ],
   "source": [
    "# Create labels based on 'Star Rating'\n",
    "def create_label(rating):\n",
    "    if rating in [1, 2]:\n",
    "        return 'Negative'\n",
    "    elif rating == 3:\n",
    "        return 'Neutral'\n",
    "    else:\n",
    "        return 'Positive'\n",
    "\n",
    "# Apply the function to create a new 'Label' column\n",
    "df_filtered['Label'] = df_filtered['Star Rating'].apply(create_label)\n",
    "\n",
    "# Check the distribution of the labels\n",
    "label_distribution = df_filtered['Label'].value_counts()\n",
    "label_distribution"
   ]
  },
  {
   "cell_type": "markdown",
   "id": "dd96c4b1",
   "metadata": {},
   "source": []
  },
  {
   "cell_type": "code",
   "execution_count": 37,
   "id": "b2b2e672",
   "metadata": {},
   "outputs": [
    {
     "data": {
      "text/plain": [
       "((92441, 5000), (23111, 5000), (92441,), (23111,))"
      ]
     },
     "execution_count": 37,
     "metadata": {},
     "output_type": "execute_result"
    }
   ],
   "source": [
    "from sklearn.model_selection import train_test_split\n",
    "\n",
    "# Split the TF-IDF matrix and labels into training and testing sets\n",
    "X_train, X_test, y_train, y_test = train_test_split(tfidf_matrix, df_filtered['Label'], test_size=0.2, random_state=42)\n",
    "\n",
    "# Check the shape of the resulting objects\n",
    "X_train.shape, X_test.shape, y_train.shape, y_test.shape\n"
   ]
  },
  {
   "cell_type": "code",
   "execution_count": null,
   "id": "922948b1",
   "metadata": {},
   "outputs": [],
   "source": [
    "MODELING- Logistic Regression"
   ]
  },
  {
   "cell_type": "code",
   "execution_count": 39,
   "id": "20cc3b11",
   "metadata": {},
   "outputs": [
    {
     "name": "stdout",
     "output_type": "stream",
     "text": [
      "Accuracy: 0.857686815801999\n",
      "Classification Report:\n",
      "              precision    recall  f1-score   support\n",
      "\n",
      "    Negative       0.67      0.45      0.54      2105\n",
      "     Neutral       0.47      0.20      0.28      2097\n",
      "    Positive       0.89      0.98      0.93     18909\n",
      "\n",
      "    accuracy                           0.86     23111\n",
      "   macro avg       0.68      0.54      0.58     23111\n",
      "weighted avg       0.83      0.86      0.84     23111\n",
      "\n"
     ]
    }
   ],
   "source": [
    "from sklearn.linear_model import LogisticRegression\n",
    "from sklearn.metrics import classification_report, accuracy_score\n",
    "\n",
    "# Initialize the Logistic Regression model\n",
    "logreg = LogisticRegression(max_iter=1000)\n",
    "\n",
    "# Train the model\n",
    "logreg.fit(X_train, y_train)\n",
    "\n",
    "# Make predictions on the test set\n",
    "y_pred = logreg.predict(X_test)\n",
    "\n",
    "# Evaluate the model\n",
    "accuracy = accuracy_score(y_test, y_pred)\n",
    "classification_rep = classification_report(y_test, y_pred)\n",
    "\n",
    "print(f\"Accuracy: {accuracy}\")\n",
    "print(\"Classification Report:\")\n",
    "print(classification_rep)\n"
   ]
  },
  {
   "cell_type": "code",
   "execution_count": 40,
   "id": "0f9368c9",
   "metadata": {},
   "outputs": [
    {
     "name": "stdout",
     "output_type": "stream",
     "text": [
      "New Label Distribution:\n",
      "Positive    75989\n",
      "Negative    75989\n",
      "Neutral     75989\n",
      "Name: Label, dtype: int64\n",
      "Accuracy: 0.7585132620829907\n",
      "Classification Report:\n",
      "              precision    recall  f1-score   support\n",
      "\n",
      "    Negative       0.42      0.63      0.51      2105\n",
      "     Neutral       0.26      0.53      0.35      2097\n",
      "    Positive       0.96      0.80      0.87     18909\n",
      "\n",
      "    accuracy                           0.76     23111\n",
      "   macro avg       0.55      0.65      0.58     23111\n",
      "weighted avg       0.85      0.76      0.79     23111\n",
      "\n"
     ]
    }
   ],
   "source": [
    "# Model seems biased towards predicting positive labels\n",
    "# Lets address this using resampling:   \n",
    "\n",
    "from imblearn.over_sampling import RandomOverSampler\n",
    "\n",
    "# Initialize the RandomOverSampler\n",
    "ros = RandomOverSampler(random_state=42)\n",
    "\n",
    "# Fit and apply the transform to the training data\n",
    "X_train_resampled, y_train_resampled = ros.fit_resample(X_train, y_train)\n",
    "\n",
    "# Check the distribution of the resampled labels\n",
    "new_label_distribution = pd.Series(y_train_resampled).value_counts()\n",
    "\n",
    "# Train the model on the resampled data\n",
    "logreg = LogisticRegression(max_iter=1000)\n",
    "logreg.fit(X_train_resampled, y_train_resampled)\n",
    "\n",
    "# Make predictions on the test set\n",
    "y_pred = logreg.predict(X_test)\n",
    "\n",
    "# Evaluate the model\n",
    "accuracy = accuracy_score(y_test, y_pred)\n",
    "classification_rep = classification_report(y_test, y_pred)\n",
    "\n",
    "print(\"New Label Distribution:\")\n",
    "print(new_label_distribution)\n",
    "print(f\"Accuracy: {accuracy}\")\n",
    "print(\"Classification Report:\")\n",
    "print(classification_rep)\n"
   ]
  },
  {
   "cell_type": "code",
   "execution_count": null,
   "id": "95d0b6e7",
   "metadata": {},
   "outputs": [],
   "source": [
    "# Before Resampling: The model had high accuracy but was biased towards the \"Positive\" class. \n",
    "# It was not very good at identifying \"Negative\" and \"Neutral\" reviews.\n",
    "\n",
    "# After Resampling: The overall accuracy went down, but the model became less biased. \n",
    "# It got better at identifying \"Negative\" and \"Neutral\" reviews, as indicated by the increase in \n",
    "# Recall and F1-Score for these classes.\n",
    "\n",
    "# In summary, the resampled model is more balanced and fair across all classes, even though its \n",
    "# overall accuracy is lower.\n",
    "\n"
   ]
  },
  {
   "cell_type": "code",
   "execution_count": 48,
   "id": "ecb81434",
   "metadata": {},
   "outputs": [
    {
     "name": "stdout",
     "output_type": "stream",
     "text": [
      "The predicted sentiment for the review is: Negative\n"
     ]
    }
   ],
   "source": [
    "# Lets test the model with a negative review just for fun\n",
    "\n",
    "from sklearn.feature_extraction.text import TfidfVectorizer\n",
    "\n",
    "# Your new review\n",
    "new_review = \"This product is not good !\"\n",
    "\n",
    "# Step 1: Text Cleaning\n",
    "cleaned_new_review = clean_text(new_review)\n",
    "\n",
    "# Step 2: TF-IDF Transformation\n",
    "# Note: We're using the same 'tfidf_vectorizer' that was used for the training data\n",
    "\n",
    "new_review_tfidf = tfidf_vectorizer.transform([cleaned_new_review])\n",
    "\n",
    "# Step 3: Model Prediction\n",
    "# Note: Use the 'logreg' model that you've already trained\n",
    "new_review_prediction = logreg.predict(new_review_tfidf)\n",
    "\n",
    "print(f\"The predicted sentiment for the review is: {new_review_prediction[0]}\")\n"
   ]
  },
  {
   "cell_type": "code",
   "execution_count": null,
   "id": "8e0b13e6",
   "metadata": {},
   "outputs": [],
   "source": []
  }
 ],
 "metadata": {
  "kernelspec": {
   "display_name": "Python 3 (ipykernel)",
   "language": "python",
   "name": "python3"
  },
  "language_info": {
   "codemirror_mode": {
    "name": "ipython",
    "version": 3
   },
   "file_extension": ".py",
   "mimetype": "text/x-python",
   "name": "python",
   "nbconvert_exporter": "python",
   "pygments_lexer": "ipython3",
   "version": "3.9.12"
  }
 },
 "nbformat": 4,
 "nbformat_minor": 5
}
