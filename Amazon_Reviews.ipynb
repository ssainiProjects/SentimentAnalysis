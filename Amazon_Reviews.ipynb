{
 "cells": [
  {
   "cell_type": "code",
   "execution_count": 7,
   "id": "74e22001",
   "metadata": {
    "id": "74e22001"
   },
   "outputs": [],
   "source": [
    "# SENTIMENT ANALYSIS: Amazon Customer Reviews\n",
    "\n",
    "# The aim is to classify reviews into categories: positive, negative, or neutral. This can provide\n",
    "# valuable insights for businesses to understand customer sentiment and improve their products or services.\n",
    "\n",
    "\n",
    "# Load the Amazon Customer Review Dataset\n",
    "\n",
    "import pandas as pd\n",
    "df = pd.read_csv(\"/content/amazondata.csv\", low_memory=False)"
   ]
  },
  {
   "cell_type": "code",
   "execution_count": null,
   "id": "32fc688c",
   "metadata": {
    "colab": {
     "base_uri": "https://localhost:8080/",
     "height": 1000
    },
    "id": "32fc688c",
    "outputId": "071a4c59-da14-4fc9-8d10-e1f62ad0eae8"
   },
   "outputs": [
    {
     "data": {
      "text/html": [
       "\n",
       "  <div id=\"df-05ae6a00-91a8-4ad9-acb2-bfbf833513a9\" class=\"colab-df-container\">\n",
       "    <div>\n",
       "<style scoped>\n",
       "    .dataframe tbody tr th:only-of-type {\n",
       "        vertical-align: middle;\n",
       "    }\n",
       "\n",
       "    .dataframe tbody tr th {\n",
       "        vertical-align: top;\n",
       "    }\n",
       "\n",
       "    .dataframe thead th {\n",
       "        text-align: right;\n",
       "    }\n",
       "</style>\n",
       "<table border=\"1\" class=\"dataframe\">\n",
       "  <thead>\n",
       "    <tr style=\"text-align: right;\">\n",
       "      <th></th>\n",
       "      <th>Helpful Votes (bin)</th>\n",
       "      <th>Number of Records</th>\n",
       "      <th>Star Rating (bin)</th>\n",
       "      <th>Customer Id</th>\n",
       "      <th>Helpful Votes</th>\n",
       "      <th>Overall Votes</th>\n",
       "      <th>Product Id</th>\n",
       "      <th>Review Body</th>\n",
       "      <th>Review Year</th>\n",
       "      <th>Review Headline</th>\n",
       "      <th>Star Rating</th>\n",
       "    </tr>\n",
       "  </thead>\n",
       "  <tbody>\n",
       "    <tr>\n",
       "      <th>0</th>\n",
       "      <td>0</td>\n",
       "      <td>1</td>\n",
       "      <td>0</td>\n",
       "      <td>NaN</td>\n",
       "      <td>4.0</td>\n",
       "      <td>14.0</td>\n",
       "      <td>26009102</td>\n",
       "      <td>You will love this book.  It is a hard long re...</td>\n",
       "      <td>03/17/2005 0:00</td>\n",
       "      <td>Best Book Ever</td>\n",
       "      <td>5.0</td>\n",
       "    </tr>\n",
       "    <tr>\n",
       "      <th>1</th>\n",
       "      <td>NaN</td>\n",
       "      <td>1</td>\n",
       "      <td>NaN</td>\n",
       "      <td>NaN</td>\n",
       "      <td>NaN</td>\n",
       "      <td>NaN</td>\n",
       "      <td>7491727</td>\n",
       "      <td>This is the UK edition of Dr. Omit's book. Dr....</td>\n",
       "      <td>NaN</td>\n",
       "      <td>researchers from John Hopkins School of Medici...</td>\n",
       "      <td>NaN</td>\n",
       "    </tr>\n",
       "    <tr>\n",
       "      <th>2</th>\n",
       "      <td>0</td>\n",
       "      <td>1</td>\n",
       "      <td>0</td>\n",
       "      <td>NaN</td>\n",
       "      <td>2.0</td>\n",
       "      <td>2.0</td>\n",
       "      <td>002782683X</td>\n",
       "      <td>This is a fun and entertaining book about lear...</td>\n",
       "      <td>06/25/2012 0:00</td>\n",
       "      <td>Michelle</td>\n",
       "      <td>5.0</td>\n",
       "    </tr>\n",
       "    <tr>\n",
       "      <th>3</th>\n",
       "      <td>0</td>\n",
       "      <td>1</td>\n",
       "      <td>0</td>\n",
       "      <td>NaN</td>\n",
       "      <td>0.0</td>\n",
       "      <td>0.0</td>\n",
       "      <td>60187271</td>\n",
       "      <td>Started a big slow, but once into it the autho...</td>\n",
       "      <td>06/09/2013 0:00</td>\n",
       "      <td>Loved the book</td>\n",
       "      <td>5.0</td>\n",
       "    </tr>\n",
       "    <tr>\n",
       "      <th>4</th>\n",
       "      <td>0</td>\n",
       "      <td>1</td>\n",
       "      <td>0</td>\n",
       "      <td>NaN</td>\n",
       "      <td>14.0</td>\n",
       "      <td>20.0</td>\n",
       "      <td>60392452</td>\n",
       "      <td>Received this book as a Christmas present. I h...</td>\n",
       "      <td>08/05/2003 0:00</td>\n",
       "      <td>Challenges your assumptions</td>\n",
       "      <td>4.0</td>\n",
       "    </tr>\n",
       "    <tr>\n",
       "      <th>...</th>\n",
       "      <td>...</td>\n",
       "      <td>...</td>\n",
       "      <td>...</td>\n",
       "      <td>...</td>\n",
       "      <td>...</td>\n",
       "      <td>...</td>\n",
       "      <td>...</td>\n",
       "      <td>...</td>\n",
       "      <td>...</td>\n",
       "      <td>...</td>\n",
       "      <td>...</td>\n",
       "    </tr>\n",
       "    <tr>\n",
       "      <th>128840</th>\n",
       "      <td>0</td>\n",
       "      <td>1</td>\n",
       "      <td>0</td>\n",
       "      <td>NaN</td>\n",
       "      <td>4.0</td>\n",
       "      <td>6.0</td>\n",
       "      <td>60529148</td>\n",
       "      <td>John Stossel explains within these pages how h...</td>\n",
       "      <td>05/19/2004 0:00</td>\n",
       "      <td>Heroic</td>\n",
       "      <td>4.0</td>\n",
       "    </tr>\n",
       "    <tr>\n",
       "      <th>128841</th>\n",
       "      <td>NaN</td>\n",
       "      <td>1</td>\n",
       "      <td>NaN</td>\n",
       "      <td>NaN</td>\n",
       "      <td>NaN</td>\n",
       "      <td>NaN</td>\n",
       "      <td>60579412</td>\n",
       "      <td>When Bill Clinton said that we were all cold w...</td>\n",
       "      <td>NaN</td>\n",
       "      <td>the record needed to be set straight.  Mona Ch...</td>\n",
       "      <td>NaN</td>\n",
       "    </tr>\n",
       "    <tr>\n",
       "      <th>128842</th>\n",
       "      <td>NaN</td>\n",
       "      <td>1</td>\n",
       "      <td>NaN</td>\n",
       "      <td>NaN</td>\n",
       "      <td>NaN</td>\n",
       "      <td>NaN</td>\n",
       "      <td>60184973</td>\n",
       "      <td>During her reign, Queen Mary foiled several pl...</td>\n",
       "      <td>NaN</td>\n",
       "      <td>Queen of Scots -- but then</td>\n",
       "      <td>NaN</td>\n",
       "    </tr>\n",
       "    <tr>\n",
       "      <th>128843</th>\n",
       "      <td>0</td>\n",
       "      <td>1</td>\n",
       "      <td>0</td>\n",
       "      <td>NaN</td>\n",
       "      <td>1.0</td>\n",
       "      <td>1.0</td>\n",
       "      <td>7444117</td>\n",
       "      <td>I just don't understand how this was supposed ...</td>\n",
       "      <td>03/26/2014 0:00</td>\n",
       "      <td>So upsetting</td>\n",
       "      <td>2.0</td>\n",
       "    </tr>\n",
       "    <tr>\n",
       "      <th>128844</th>\n",
       "      <td>0</td>\n",
       "      <td>1</td>\n",
       "      <td>0</td>\n",
       "      <td>NaN</td>\n",
       "      <td>0.0</td>\n",
       "      <td>0.0</td>\n",
       "      <td>7337701</td>\n",
       "      <td>No one can explain what seems to be the serend...</td>\n",
       "      <td>09/02/2013 0:00</td>\n",
       "      <td>ultimately real and insightful</td>\n",
       "      <td>5.0</td>\n",
       "    </tr>\n",
       "  </tbody>\n",
       "</table>\n",
       "<p>128845 rows × 11 columns</p>\n",
       "</div>\n",
       "    <div class=\"colab-df-buttons\">\n",
       "\n",
       "  <div class=\"colab-df-container\">\n",
       "    <button class=\"colab-df-convert\" onclick=\"convertToInteractive('df-05ae6a00-91a8-4ad9-acb2-bfbf833513a9')\"\n",
       "            title=\"Convert this dataframe to an interactive table.\"\n",
       "            style=\"display:none;\">\n",
       "\n",
       "  <svg xmlns=\"http://www.w3.org/2000/svg\" height=\"24px\" viewBox=\"0 -960 960 960\">\n",
       "    <path d=\"M120-120v-720h720v720H120Zm60-500h600v-160H180v160Zm220 220h160v-160H400v160Zm0 220h160v-160H400v160ZM180-400h160v-160H180v160Zm440 0h160v-160H620v160ZM180-180h160v-160H180v160Zm440 0h160v-160H620v160Z\"/>\n",
       "  </svg>\n",
       "    </button>\n",
       "\n",
       "  <style>\n",
       "    .colab-df-container {\n",
       "      display:flex;\n",
       "      gap: 12px;\n",
       "    }\n",
       "\n",
       "    .colab-df-convert {\n",
       "      background-color: #E8F0FE;\n",
       "      border: none;\n",
       "      border-radius: 50%;\n",
       "      cursor: pointer;\n",
       "      display: none;\n",
       "      fill: #1967D2;\n",
       "      height: 32px;\n",
       "      padding: 0 0 0 0;\n",
       "      width: 32px;\n",
       "    }\n",
       "\n",
       "    .colab-df-convert:hover {\n",
       "      background-color: #E2EBFA;\n",
       "      box-shadow: 0px 1px 2px rgba(60, 64, 67, 0.3), 0px 1px 3px 1px rgba(60, 64, 67, 0.15);\n",
       "      fill: #174EA6;\n",
       "    }\n",
       "\n",
       "    .colab-df-buttons div {\n",
       "      margin-bottom: 4px;\n",
       "    }\n",
       "\n",
       "    [theme=dark] .colab-df-convert {\n",
       "      background-color: #3B4455;\n",
       "      fill: #D2E3FC;\n",
       "    }\n",
       "\n",
       "    [theme=dark] .colab-df-convert:hover {\n",
       "      background-color: #434B5C;\n",
       "      box-shadow: 0px 1px 3px 1px rgba(0, 0, 0, 0.15);\n",
       "      filter: drop-shadow(0px 1px 2px rgba(0, 0, 0, 0.3));\n",
       "      fill: #FFFFFF;\n",
       "    }\n",
       "  </style>\n",
       "\n",
       "    <script>\n",
       "      const buttonEl =\n",
       "        document.querySelector('#df-05ae6a00-91a8-4ad9-acb2-bfbf833513a9 button.colab-df-convert');\n",
       "      buttonEl.style.display =\n",
       "        google.colab.kernel.accessAllowed ? 'block' : 'none';\n",
       "\n",
       "      async function convertToInteractive(key) {\n",
       "        const element = document.querySelector('#df-05ae6a00-91a8-4ad9-acb2-bfbf833513a9');\n",
       "        const dataTable =\n",
       "          await google.colab.kernel.invokeFunction('convertToInteractive',\n",
       "                                                    [key], {});\n",
       "        if (!dataTable) return;\n",
       "\n",
       "        const docLinkHtml = 'Like what you see? Visit the ' +\n",
       "          '<a target=\"_blank\" href=https://colab.research.google.com/notebooks/data_table.ipynb>data table notebook</a>'\n",
       "          + ' to learn more about interactive tables.';\n",
       "        element.innerHTML = '';\n",
       "        dataTable['output_type'] = 'display_data';\n",
       "        await google.colab.output.renderOutput(dataTable, element);\n",
       "        const docLink = document.createElement('div');\n",
       "        docLink.innerHTML = docLinkHtml;\n",
       "        element.appendChild(docLink);\n",
       "      }\n",
       "    </script>\n",
       "  </div>\n",
       "\n",
       "\n",
       "<div id=\"df-2ddd6289-479a-4897-9868-5a8f14278565\">\n",
       "  <button class=\"colab-df-quickchart\" onclick=\"quickchart('df-2ddd6289-479a-4897-9868-5a8f14278565')\"\n",
       "            title=\"Suggest charts.\"\n",
       "            style=\"display:none;\">\n",
       "\n",
       "<svg xmlns=\"http://www.w3.org/2000/svg\" height=\"24px\"viewBox=\"0 0 24 24\"\n",
       "     width=\"24px\">\n",
       "    <g>\n",
       "        <path d=\"M19 3H5c-1.1 0-2 .9-2 2v14c0 1.1.9 2 2 2h14c1.1 0 2-.9 2-2V5c0-1.1-.9-2-2-2zM9 17H7v-7h2v7zm4 0h-2V7h2v10zm4 0h-2v-4h2v4z\"/>\n",
       "    </g>\n",
       "</svg>\n",
       "  </button>\n",
       "\n",
       "<style>\n",
       "  .colab-df-quickchart {\n",
       "      --bg-color: #E8F0FE;\n",
       "      --fill-color: #1967D2;\n",
       "      --hover-bg-color: #E2EBFA;\n",
       "      --hover-fill-color: #174EA6;\n",
       "      --disabled-fill-color: #AAA;\n",
       "      --disabled-bg-color: #DDD;\n",
       "  }\n",
       "\n",
       "  [theme=dark] .colab-df-quickchart {\n",
       "      --bg-color: #3B4455;\n",
       "      --fill-color: #D2E3FC;\n",
       "      --hover-bg-color: #434B5C;\n",
       "      --hover-fill-color: #FFFFFF;\n",
       "      --disabled-bg-color: #3B4455;\n",
       "      --disabled-fill-color: #666;\n",
       "  }\n",
       "\n",
       "  .colab-df-quickchart {\n",
       "    background-color: var(--bg-color);\n",
       "    border: none;\n",
       "    border-radius: 50%;\n",
       "    cursor: pointer;\n",
       "    display: none;\n",
       "    fill: var(--fill-color);\n",
       "    height: 32px;\n",
       "    padding: 0;\n",
       "    width: 32px;\n",
       "  }\n",
       "\n",
       "  .colab-df-quickchart:hover {\n",
       "    background-color: var(--hover-bg-color);\n",
       "    box-shadow: 0 1px 2px rgba(60, 64, 67, 0.3), 0 1px 3px 1px rgba(60, 64, 67, 0.15);\n",
       "    fill: var(--button-hover-fill-color);\n",
       "  }\n",
       "\n",
       "  .colab-df-quickchart-complete:disabled,\n",
       "  .colab-df-quickchart-complete:disabled:hover {\n",
       "    background-color: var(--disabled-bg-color);\n",
       "    fill: var(--disabled-fill-color);\n",
       "    box-shadow: none;\n",
       "  }\n",
       "\n",
       "  .colab-df-spinner {\n",
       "    border: 2px solid var(--fill-color);\n",
       "    border-color: transparent;\n",
       "    border-bottom-color: var(--fill-color);\n",
       "    animation:\n",
       "      spin 1s steps(1) infinite;\n",
       "  }\n",
       "\n",
       "  @keyframes spin {\n",
       "    0% {\n",
       "      border-color: transparent;\n",
       "      border-bottom-color: var(--fill-color);\n",
       "      border-left-color: var(--fill-color);\n",
       "    }\n",
       "    20% {\n",
       "      border-color: transparent;\n",
       "      border-left-color: var(--fill-color);\n",
       "      border-top-color: var(--fill-color);\n",
       "    }\n",
       "    30% {\n",
       "      border-color: transparent;\n",
       "      border-left-color: var(--fill-color);\n",
       "      border-top-color: var(--fill-color);\n",
       "      border-right-color: var(--fill-color);\n",
       "    }\n",
       "    40% {\n",
       "      border-color: transparent;\n",
       "      border-right-color: var(--fill-color);\n",
       "      border-top-color: var(--fill-color);\n",
       "    }\n",
       "    60% {\n",
       "      border-color: transparent;\n",
       "      border-right-color: var(--fill-color);\n",
       "    }\n",
       "    80% {\n",
       "      border-color: transparent;\n",
       "      border-right-color: var(--fill-color);\n",
       "      border-bottom-color: var(--fill-color);\n",
       "    }\n",
       "    90% {\n",
       "      border-color: transparent;\n",
       "      border-bottom-color: var(--fill-color);\n",
       "    }\n",
       "  }\n",
       "</style>\n",
       "\n",
       "  <script>\n",
       "    async function quickchart(key) {\n",
       "      const quickchartButtonEl =\n",
       "        document.querySelector('#' + key + ' button');\n",
       "      quickchartButtonEl.disabled = true;  // To prevent multiple clicks.\n",
       "      quickchartButtonEl.classList.add('colab-df-spinner');\n",
       "      try {\n",
       "        const charts = await google.colab.kernel.invokeFunction(\n",
       "            'suggestCharts', [key], {});\n",
       "      } catch (error) {\n",
       "        console.error('Error during call to suggestCharts:', error);\n",
       "      }\n",
       "      quickchartButtonEl.classList.remove('colab-df-spinner');\n",
       "      quickchartButtonEl.classList.add('colab-df-quickchart-complete');\n",
       "    }\n",
       "    (() => {\n",
       "      let quickchartButtonEl =\n",
       "        document.querySelector('#df-2ddd6289-479a-4897-9868-5a8f14278565 button');\n",
       "      quickchartButtonEl.style.display =\n",
       "        google.colab.kernel.accessAllowed ? 'block' : 'none';\n",
       "    })();\n",
       "  </script>\n",
       "</div>\n",
       "    </div>\n",
       "  </div>\n"
      ],
      "text/plain": [
       "       Helpful Votes (bin) Number of Records Star Rating (bin)  Customer Id  \\\n",
       "0                        0                 1                 0          NaN   \n",
       "1                      NaN                 1               NaN          NaN   \n",
       "2                        0                 1                 0          NaN   \n",
       "3                        0                 1                 0          NaN   \n",
       "4                        0                 1                 0          NaN   \n",
       "...                    ...               ...               ...          ...   \n",
       "128840                   0                 1                 0          NaN   \n",
       "128841                 NaN                 1               NaN          NaN   \n",
       "128842                 NaN                 1               NaN          NaN   \n",
       "128843                   0                 1                 0          NaN   \n",
       "128844                   0                 1                 0          NaN   \n",
       "\n",
       "        Helpful Votes  Overall Votes  Product Id  \\\n",
       "0                 4.0           14.0    26009102   \n",
       "1                 NaN            NaN     7491727   \n",
       "2                 2.0            2.0  002782683X   \n",
       "3                 0.0            0.0    60187271   \n",
       "4                14.0           20.0    60392452   \n",
       "...               ...            ...         ...   \n",
       "128840            4.0            6.0    60529148   \n",
       "128841            NaN            NaN    60579412   \n",
       "128842            NaN            NaN    60184973   \n",
       "128843            1.0            1.0     7444117   \n",
       "128844            0.0            0.0     7337701   \n",
       "\n",
       "                                              Review Body      Review Year  \\\n",
       "0       You will love this book.  It is a hard long re...  03/17/2005 0:00   \n",
       "1       This is the UK edition of Dr. Omit's book. Dr....              NaN   \n",
       "2       This is a fun and entertaining book about lear...  06/25/2012 0:00   \n",
       "3       Started a big slow, but once into it the autho...  06/09/2013 0:00   \n",
       "4       Received this book as a Christmas present. I h...  08/05/2003 0:00   \n",
       "...                                                   ...              ...   \n",
       "128840  John Stossel explains within these pages how h...  05/19/2004 0:00   \n",
       "128841  When Bill Clinton said that we were all cold w...              NaN   \n",
       "128842  During her reign, Queen Mary foiled several pl...              NaN   \n",
       "128843  I just don't understand how this was supposed ...  03/26/2014 0:00   \n",
       "128844  No one can explain what seems to be the serend...  09/02/2013 0:00   \n",
       "\n",
       "                                          Review Headline  Star Rating  \n",
       "0                                          Best Book Ever          5.0  \n",
       "1       researchers from John Hopkins School of Medici...          NaN  \n",
       "2                                                Michelle          5.0  \n",
       "3                                          Loved the book          5.0  \n",
       "4                             Challenges your assumptions          4.0  \n",
       "...                                                   ...          ...  \n",
       "128840                                             Heroic          4.0  \n",
       "128841  the record needed to be set straight.  Mona Ch...          NaN  \n",
       "128842                         Queen of Scots -- but then          NaN  \n",
       "128843                                       So upsetting          2.0  \n",
       "128844                     ultimately real and insightful          5.0  \n",
       "\n",
       "[128845 rows x 11 columns]"
      ]
     },
     "execution_count": 8,
     "metadata": {},
     "output_type": "execute_result"
    }
   ],
   "source": [
    "# View the dataset\n",
    "df\n"
   ]
  },
  {
   "cell_type": "code",
   "execution_count": 8,
   "id": "397df66d",
   "metadata": {
    "colab": {
     "base_uri": "https://localhost:8080/"
    },
    "id": "397df66d",
    "outputId": "7946800d-ff5f-427d-bf76-496f2631324d"
   },
   "outputs": [
    {
     "data": {
      "text/plain": [
       "(128845, 11)"
      ]
     },
     "execution_count": 8,
     "metadata": {},
     "output_type": "execute_result"
    }
   ],
   "source": [
    "# Number of Rows and Columns:\n",
    "\n",
    "df.shape"
   ]
  },
  {
   "cell_type": "code",
   "execution_count": 9,
   "id": "59329bb0",
   "metadata": {
    "colab": {
     "base_uri": "https://localhost:8080/"
    },
    "id": "59329bb0",
    "outputId": "4d11ce43-7aaf-4347-eb08-12c0f9756e84"
   },
   "outputs": [
    {
     "data": {
      "text/plain": [
       "Helpful Votes (bin)     object\n",
       "Number of Records       object\n",
       "Star Rating (bin)       object\n",
       "Customer Id            float64\n",
       "Helpful Votes          float64\n",
       "Overall Votes          float64\n",
       "Product Id              object\n",
       "Review Body             object\n",
       "Review Year             object\n",
       "Review Headline         object\n",
       "Star Rating            float64\n",
       "dtype: object"
      ]
     },
     "execution_count": 9,
     "metadata": {},
     "output_type": "execute_result"
    }
   ],
   "source": [
    "# column datatypes\n",
    "\n",
    "df.dtypes"
   ]
  },
  {
   "cell_type": "code",
   "execution_count": 10,
   "id": "4fcccde1",
   "metadata": {
    "colab": {
     "base_uri": "https://localhost:8080/"
    },
    "id": "4fcccde1",
    "outputId": "1caefc90-df7f-4754-812b-663a0e8a100a"
   },
   "outputs": [
    {
     "data": {
      "text/plain": [
       "Helpful Votes (bin)    13898\n",
       "Number of Records          2\n",
       "Star Rating (bin)      12534\n",
       "Customer Id            68865\n",
       "Helpful Votes          13902\n",
       "Overall Votes          12724\n",
       "Product Id                 5\n",
       "Review Body               11\n",
       "Review Year            13912\n",
       "Review Headline           14\n",
       "Star Rating            12540\n",
       "dtype: int64"
      ]
     },
     "execution_count": 10,
     "metadata": {},
     "output_type": "execute_result"
    }
   ],
   "source": [
    "# Missing values\n",
    "\n",
    "df.isnull().sum()"
   ]
  },
  {
   "cell_type": "markdown",
   "id": "fea38c7c",
   "metadata": {
    "id": "fea38c7c"
   },
   "source": [
    "DATA PREPROCESSING:"
   ]
  },
  {
   "cell_type": "code",
   "execution_count": 11,
   "id": "2789a9a4",
   "metadata": {
    "id": "2789a9a4"
   },
   "outputs": [],
   "source": [
    "# The key tasks in this stage will be:\n",
    "\n",
    "# Handling Missing Values: Removing or imputing missing values in crucial columns like 'Review Body' and 'Star Rating'.\n",
    "\n",
    "# Type Conversion: Converting the data types of columns, if necessary.\n",
    "\n",
    "# Text Cleaning: Removing special characters, converting all text to lowercase, etc., in the 'Review Body' column."
   ]
  },
  {
   "cell_type": "code",
   "execution_count": 12,
   "id": "7c4a2698",
   "metadata": {
    "id": "7c4a2698"
   },
   "outputs": [],
   "source": [
    "# We have:\n",
    "\n",
    "# 11 missing values in the 'Review Body' column\n",
    "# 12,540 missing values in the 'Star Rating' column\n",
    "\n",
    "# Handling Missing Values:\n",
    "#'Review Body': Given that there are only 11 missing values, it's reasonable to simply remove these\n",
    "# rows from the dataset. The 'Review Body' is crucial for our text-based sentiment analysis.\n",
    "\n",
    "# 'Star Rating': We have a larger number of missing values here. Since we're planning to use 'Star Rating'\n",
    "# as labels for training our sentiment analysis model, rows with missing 'Star Rating' won't be useful.\n",
    "# We should consider removing these as well."
   ]
  },
  {
   "cell_type": "code",
   "execution_count": 13,
   "id": "9095c62f",
   "metadata": {
    "colab": {
     "base_uri": "https://localhost:8080/"
    },
    "id": "9095c62f",
    "outputId": "d63df141-88b2-4df6-cb4d-953a4ce4f20e"
   },
   "outputs": [
    {
     "name": "stdout",
     "output_type": "stream",
     "text": [
      "Number of rows after cleaning: 116299\n",
      "Number of columns: 11\n",
      "Missing values in 'Review Body': 0\n",
      "Missing values in 'Star Rating': 0\n"
     ]
    }
   ],
   "source": [
    "# Remove rows with missing values in the key columns\n",
    "df_clean = df.dropna(subset=['Review Body', 'Star Rating']).copy()\n",
    "\n",
    "# Check the new dimensions of the DataFrame and verify the missing values are removed\n",
    "num_rows_clean, num_cols_clean = df_clean.shape\n",
    "missing_review_body_clean = df_clean['Review Body'].isnull().sum()\n",
    "missing_star_rating_clean = df_clean['Star Rating'].isnull().sum()\n",
    "\n",
    "print(f\"Number of rows after cleaning: {num_rows_clean}\")\n",
    "print(f\"Number of columns: {num_cols_clean}\")\n",
    "print(f\"Missing values in 'Review Body': {missing_review_body_clean}\")\n",
    "print(f\"Missing values in 'Star Rating': {missing_star_rating_clean}\")\n"
   ]
  },
  {
   "cell_type": "code",
   "execution_count": 14,
   "id": "6743bd44",
   "metadata": {
    "colab": {
     "base_uri": "https://localhost:8080/"
    },
    "id": "6743bd44",
    "outputId": "eb1289c7-d725-43ff-966f-462b0aef2628"
   },
   "outputs": [
    {
     "name": "stdout",
     "output_type": "stream",
     "text": [
      "                                         Review Body  \\\n",
      "0  You will love this book.  It is a hard long re...   \n",
      "2  This is a fun and entertaining book about lear...   \n",
      "3  Started a big slow, but once into it the autho...   \n",
      "4  Received this book as a Christmas present. I h...   \n",
      "6  Ugly Impostor, discernible face, self esteem r...   \n",
      "\n",
      "                                 Cleaned_Review_Body  \n",
      "0  you will love this book  it is a hard long rea...  \n",
      "2  this is a fun and entertaining book about lear...  \n",
      "3  started a big slow but once into it the author...  \n",
      "4  received this book as a christmas present i ha...  \n",
      "6  ugly impostor discernible face self esteem rel...  \n"
     ]
    }
   ],
   "source": [
    "# We'll remove special characters and convert all text to lowercase.\n",
    "\n",
    "# The expression re.sub(r'[^\\w\\s]', '', text) effectively removes all special characters\n",
    "# from the input text,leaving only alphanumeric characters and spaces.\n",
    "\n",
    "\n",
    "import re\n",
    "\n",
    "# Function to clean text\n",
    "def clean_text(text):\n",
    "    text = re.sub(r'[^\\w\\s]', '', text)  # Remove special characters\n",
    "    text = text.lower()  # Convert text to lowercase\n",
    "    return text\n",
    "\n",
    "# Apply the function to the 'Review Body' column\n",
    "df_clean['Cleaned_Review_Body'] = df_clean['Review Body'].apply(clean_text)\n",
    "\n",
    "# Check the first few rows to see the cleaned text\n",
    "print(df_clean[['Review Body', 'Cleaned_Review_Body']].head())\n"
   ]
  },
  {
   "cell_type": "code",
   "execution_count": 15,
   "id": "d152d609",
   "metadata": {
    "colab": {
     "base_uri": "https://localhost:8080/"
    },
    "id": "d152d609",
    "outputId": "16e99b56-2f1e-406b-b732-ea72fe0d476a"
   },
   "outputs": [
    {
     "name": "stdout",
     "output_type": "stream",
     "text": [
      "Unique values in 'Star Rating': [0.0, 1.0, 2.0, 3.0, 4.0, 5.0, 6.0, 7.0, 8.0, 9.0, 10.0, 11.0, 12.0, 13.0, 14.0, 15.0, 16.0, 17.0, 18.0, 19.0, 20.0, 21.0, 22.0, 23.0, 24.0, 25.0, 26.0, 27.0, 28.0, 29.0, 30.0, 31.0, 32.0, 33.0, 34.0, 35.0, 36.0, 37.0, 38.0, 40.0, 41.0, 42.0, 43.0, 44.0, 47.0, 49.0, 52.0, 53.0, 54.0, 57.0, 58.0, 62.0, 63.0, 64.0, 68.0, 69.0, 73.0, 74.0, 101.0, 102.0, 112.0, 119.0, 125.0, 131.0, 152.0, 159.0, 171.0, 177.0, 190.0, 235.0, 2008.0]\n"
     ]
    }
   ],
   "source": [
    "# Check unique values in 'Star Rating'\n",
    "unique_star_ratings = df_clean['Star Rating'].unique()\n",
    "print(f\"Unique values in 'Star Rating': {sorted(unique_star_ratings)}\")\n"
   ]
  },
  {
   "cell_type": "code",
   "execution_count": 16,
   "id": "9ddbdc09",
   "metadata": {
    "id": "9ddbdc09"
   },
   "outputs": [],
   "source": [
    "# remove rows which have star rating that are not between 1-5. These ratings are likely erroneous.\n",
    "df_filtered = df_clean[df_clean['Star Rating'].between(1, 5)]"
   ]
  },
  {
   "cell_type": "code",
   "execution_count": 17,
   "id": "7ce82744",
   "metadata": {
    "colab": {
     "base_uri": "https://localhost:8080/",
     "height": 581
    },
    "id": "7ce82744",
    "outputId": "19acba8c-06ec-4fb1-aa24-bd8ba1cb54ee"
   },
   "outputs": [
    {
     "data": {
      "image/png": "[encoded data removed]",
      "text/plain": [
       "<Figure size 1000x600 with 1 Axes>"
      ]
     },
     "metadata": {},
     "output_type": "display_data"
    },
    {
     "data": {
      "text/plain": [
       "(115552, 12)"
      ]
     },
     "execution_count": 17,
     "metadata": {},
     "output_type": "execute_result"
    }
   ],
   "source": [
    "# plot the distribution of 'Star Rating'\n",
    "\n",
    "import matplotlib.pyplot as plt\n",
    "import seaborn as sns\n",
    "\n",
    "new_shape = df_filtered.shape\n",
    "\n",
    "\n",
    "plt.figure(figsize=(10, 6))\n",
    "sns.countplot(x='Star Rating', data=df_filtered)\n",
    "plt.title('Distribution of Star Ratings')\n",
    "plt.xlabel('Star Rating')\n",
    "plt.ylabel('Count')\n",
    "plt.show()\n",
    "\n",
    "new_shape"
   ]
  },
  {
   "cell_type": "code",
   "execution_count": null,
   "id": "aab500be",
   "metadata": {
    "id": "aab500be"
   },
   "outputs": [],
   "source": []
  },
  {
   "cell_type": "markdown",
   "id": "d6efff98",
   "metadata": {
    "id": "d6efff98"
   },
   "source": [
    "FEATURE ENGINEERING"
   ]
  },
  {
   "cell_type": "code",
   "execution_count": null,
   "id": "32769c86",
   "metadata": {
    "id": "32769c86"
   },
   "outputs": [],
   "source": [
    "# In this stage, we'll convert the text data from the 'Review Body' column into a numerical format\n",
    "# that can be fed into machine learning algorithms.\n",
    "\n",
    "# For this project, let's start with the TF-IDF approach, which is a commonly used technique that takes into\n",
    "# account not just the occurrence of words in a single document (or review, in our case) but in the entire\n",
    "# corpus of documents."
   ]
  },
  {
   "cell_type": "code",
   "execution_count": 18,
   "id": "3cb350f7",
   "metadata": {
    "colab": {
     "base_uri": "https://localhost:8080/"
    },
    "id": "3cb350f7",
    "outputId": "45c52555-9ac1-466c-b88d-b837f5736afc"
   },
   "outputs": [
    {
     "data": {
      "text/plain": [
       "(115552, 5000)"
      ]
     },
     "execution_count": 18,
     "metadata": {},
     "output_type": "execute_result"
    }
   ],
   "source": [
    "from sklearn.feature_extraction.text import TfidfVectorizer\n",
    "\n",
    "# Initialize the TF-IDF vectorizer\n",
    "tfidf_vectorizer = TfidfVectorizer(max_features=5000)  # Limit to 5000 most frequent words to save memory and processing time\n",
    "\n",
    "# Fit and transform the 'Cleaned_Review_Body' column\n",
    "tfidf_matrix = tfidf_vectorizer.fit_transform(df_filtered['Cleaned_Review_Body'])\n",
    "\n",
    "# Check the shape of the resulting TF-IDF matrix\n",
    "tfidf_shape = tfidf_matrix.shape\n",
    "tfidf_shape\n",
    "\n",
    "# The shape of the TF-IDF matrix indicates that we have successfully transformed 115,552 reviews into numerical\n",
    "# vectors, each containing the TF-IDF scores for up to 5,000 unique words. This matrix will serve as the input\n",
    "# for our machine learning model."
   ]
  },
  {
   "cell_type": "code",
   "execution_count": 19,
   "id": "009789d2",
   "metadata": {
    "colab": {
     "base_uri": "https://localhost:8080/"
    },
    "id": "009789d2",
    "outputId": "7de67cee-16dc-4f07-d236-148881bddd95"
   },
   "outputs": [
    {
     "name": "stderr",
     "output_type": "stream",
     "text": [
      "<ipython-input-19-8b57f8d51833>:11: SettingWithCopyWarning: \n",
      "A value is trying to be set on a copy of a slice from a DataFrame.\n",
      "Try using .loc[row_indexer,col_indexer] = value instead\n",
      "\n",
      "See the caveats in the documentation: https://pandas.pydata.org/pandas-docs/stable/user_guide/indexing.html#returning-a-view-versus-a-copy\n",
      "  df_filtered['Label'] = df_filtered['Star Rating'].apply(create_label)\n"
     ]
    },
    {
     "data": {
      "text/plain": [
       "Positive    94898\n",
       "Negative    10598\n",
       "Neutral     10056\n",
       "Name: Label, dtype: int64"
      ]
     },
     "execution_count": 19,
     "metadata": {},
     "output_type": "execute_result"
    }
   ],
   "source": [
    "# Create labels based on 'Star Rating'\n",
    "def create_label(rating):\n",
    "    if rating in [1, 2]:\n",
    "        return 'Negative'\n",
    "    elif rating == 3:\n",
    "        return 'Neutral'\n",
    "    else:\n",
    "        return 'Positive'\n",
    "\n",
    "# Apply the function to create a new 'Label' column\n",
    "df_filtered['Label'] = df_filtered['Star Rating'].apply(create_label)\n",
    "\n",
    "# Check the distribution of the labels\n",
    "label_distribution = df_filtered['Label'].value_counts()\n",
    "label_distribution"
   ]
  },
  {
   "cell_type": "markdown",
   "id": "34392840",
   "metadata": {
    "id": "34392840"
   },
   "source": []
  },
  {
   "cell_type": "code",
   "execution_count": 20,
   "id": "694acd44",
   "metadata": {
    "colab": {
     "base_uri": "https://localhost:8080/"
    },
    "id": "694acd44",
    "outputId": "ea5c9dea-4569-4d5e-95bb-ff14a0436eec"
   },
   "outputs": [
    {
     "data": {
      "text/plain": [
       "((92441, 5000), (23111, 5000), (92441,), (23111,))"
      ]
     },
     "execution_count": 20,
     "metadata": {},
     "output_type": "execute_result"
    }
   ],
   "source": [
    "from sklearn.model_selection import train_test_split\n",
    "\n",
    "# Split the TF-IDF matrix and labels into training and testing sets\n",
    "X_train, X_test, y_train, y_test = train_test_split(tfidf_matrix, df_filtered['Label'], test_size=0.2, random_state=42)\n",
    "\n",
    "# Check the shape of the resulting objects\n",
    "X_train.shape, X_test.shape, y_train.shape, y_test.shape\n"
   ]
  },
  {
   "cell_type": "code",
   "execution_count": 21,
   "id": "16386a0f",
   "metadata": {
    "id": "16386a0f"
   },
   "outputs": [],
   "source": [
    "# MODELING- Logistic Regression"
   ]
  },
  {
   "cell_type": "code",
   "execution_count": 22,
   "id": "5dd46987",
   "metadata": {
    "colab": {
     "base_uri": "https://localhost:8080/"
    },
    "id": "5dd46987",
    "outputId": "7200e2fe-58cf-413e-98f1-ea3b1c60674d"
   },
   "outputs": [
    {
     "name": "stdout",
     "output_type": "stream",
     "text": [
      "Accuracy: 0.857686815801999\n",
      "Classification Report:\n",
      "              precision    recall  f1-score   support\n",
      "\n",
      "    Negative       0.67      0.45      0.54      2105\n",
      "     Neutral       0.47      0.20      0.28      2097\n",
      "    Positive       0.89      0.98      0.93     18909\n",
      "\n",
      "    accuracy                           0.86     23111\n",
      "   macro avg       0.68      0.54      0.58     23111\n",
      "weighted avg       0.83      0.86      0.84     23111\n",
      "\n"
     ]
    }
   ],
   "source": [
    "from sklearn.linear_model import LogisticRegression\n",
    "from sklearn.metrics import classification_report, accuracy_score\n",
    "\n",
    "# Initialize the Logistic Regression model\n",
    "logreg = LogisticRegression(max_iter=1000)\n",
    "\n",
    "# Train the model\n",
    "logreg.fit(X_train, y_train)\n",
    "\n",
    "# Make predictions on the test set\n",
    "y_pred = logreg.predict(X_test)\n",
    "\n",
    "# Evaluate the model\n",
    "accuracy = accuracy_score(y_test, y_pred)\n",
    "classification_rep = classification_report(y_test, y_pred)\n",
    "\n",
    "print(f\"Accuracy: {accuracy}\")\n",
    "print(\"Classification Report:\")\n",
    "print(classification_rep)\n"
   ]
  },
  {
   "cell_type": "code",
   "execution_count": 23,
   "id": "ae9a11f3",
   "metadata": {
    "colab": {
     "base_uri": "https://localhost:8080/"
    },
    "id": "ae9a11f3",
    "outputId": "b1dab330-33b9-470b-b4a5-6f062a89ba69"
   },
   "outputs": [
    {
     "name": "stdout",
     "output_type": "stream",
     "text": [
      "New Label Distribution:\n",
      "Positive    75989\n",
      "Negative    75989\n",
      "Neutral     75989\n",
      "Name: Label, dtype: int64\n",
      "Accuracy: 0.7585565315217861\n",
      "Classification Report:\n",
      "              precision    recall  f1-score   support\n",
      "\n",
      "    Negative       0.42      0.63      0.51      2105\n",
      "     Neutral       0.26      0.53      0.35      2097\n",
      "    Positive       0.96      0.80      0.87     18909\n",
      "\n",
      "    accuracy                           0.76     23111\n",
      "   macro avg       0.55      0.65      0.58     23111\n",
      "weighted avg       0.85      0.76      0.79     23111\n",
      "\n"
     ]
    }
   ],
   "source": [
    "# Model seems biased towards predicting positive labels\n",
    "# Lets address this using resampling:\n",
    "\n",
    "from imblearn.over_sampling import RandomOverSampler\n",
    "\n",
    "# Initialize the RandomOverSampler\n",
    "ros = RandomOverSampler(random_state=42)\n",
    "\n",
    "# Fit and apply the transform to the training data\n",
    "X_train_resampled, y_train_resampled = ros.fit_resample(X_train, y_train)\n",
    "\n",
    "# Check the distribution of the resampled labels\n",
    "new_label_distribution = pd.Series(y_train_resampled).value_counts()\n",
    "\n",
    "# Train the model on the resampled data\n",
    "logreg = LogisticRegression(max_iter=1000)\n",
    "logreg.fit(X_train_resampled, y_train_resampled)\n",
    "\n",
    "# Make predictions on the test set\n",
    "y_pred = logreg.predict(X_test)\n",
    "\n",
    "# Evaluate the model\n",
    "accuracy = accuracy_score(y_test, y_pred)\n",
    "classification_rep = classification_report(y_test, y_pred)\n",
    "\n",
    "print(\"New Label Distribution:\")\n",
    "print(new_label_distribution)\n",
    "print(f\"Accuracy: {accuracy}\")\n",
    "print(\"Classification Report:\")\n",
    "print(classification_rep)\n"
   ]
  },
  {
   "cell_type": "code",
   "execution_count": null,
   "id": "5d493dcf",
   "metadata": {
    "id": "5d493dcf"
   },
   "outputs": [],
   "source": [
    "# Before Resampling: The model had high accuracy but was biased towards the \"Positive\" class.\n",
    "# It was not very good at identifying \"Negative\" and \"Neutral\" reviews.\n",
    "\n",
    "# After Resampling: The overall accuracy went down, but the model became less biased.\n",
    "# It got better at identifying \"Negative\" and \"Neutral\" reviews, as indicated by the increase in\n",
    "# Recall and F1-Score for these classes.\n",
    "\n",
    "# In summary, the resampled model is more balanced and fair across all classes, even though its\n",
    "# overall accuracy is lower.\n",
    "\n"
   ]
  },
  {
   "cell_type": "code",
   "execution_count": 24,
   "id": "35978b7b",
   "metadata": {
    "colab": {
     "base_uri": "https://localhost:8080/"
    },
    "id": "35978b7b",
    "outputId": "28fb5ccd-189c-4227-fb75-9752b54e212b"
   },
   "outputs": [
    {
     "name": "stdout",
     "output_type": "stream",
     "text": [
      "The predicted sentiment for the review is: Negative\n"
     ]
    }
   ],
   "source": [
    "# Lets test the model with a negative review just for fun\n",
    "\n",
    "from sklearn.feature_extraction.text import TfidfVectorizer\n",
    "\n",
    "# Your new review\n",
    "new_review = \"This product is not good !\"\n",
    "\n",
    "# Step 1: Text Cleaning\n",
    "cleaned_new_review = clean_text(new_review)\n",
    "\n",
    "# Step 2: TF-IDF Transformation\n",
    "# Note: We're using the same 'tfidf_vectorizer' that was used for the training data\n",
    "\n",
    "new_review_tfidf = tfidf_vectorizer.transform([cleaned_new_review])\n",
    "\n",
    "# Step 3: Model Prediction\n",
    "# Note: Use the 'logreg' model that you've already trained\n",
    "new_review_prediction = logreg.predict(new_review_tfidf)\n",
    "\n",
    "print(f\"The predicted sentiment for the review is: {new_review_prediction[0]}\")\n"
   ]
  },
  {
   "cell_type": "markdown",
   "id": "wpytiOyfGrj8",
   "metadata": {
    "id": "wpytiOyfGrj8"
   },
   "source": [
    "Hyperparamater Tuning (Logistic Regression)"
   ]
  },
  {
   "cell_type": "code",
   "execution_count": 31,
   "id": "dd41fa6f",
   "metadata": {
    "colab": {
     "base_uri": "https://localhost:8080/"
    },
    "id": "dd41fa6f",
    "outputId": "f7b765f1-0c69-4fcb-86ad-759af0703823"
   },
   "outputs": [
    {
     "name": "stdout",
     "output_type": "stream",
     "text": [
      "Best Hyperparameters: {'C': 10}\n",
      "Accuracy with Best Hyperparameters: 0.7501622603954826\n",
      "Classification Report with Best Hyperparameters:\n",
      "              precision    recall  f1-score   support\n",
      "\n",
      "    Negative       0.40      0.61      0.48      2105\n",
      "     Neutral       0.25      0.51      0.34      2097\n",
      "    Positive       0.96      0.79      0.87     18909\n",
      "\n",
      "    accuracy                           0.75     23111\n",
      "   macro avg       0.54      0.64      0.56     23111\n",
      "weighted avg       0.84      0.75      0.78     23111\n",
      "\n"
     ]
    }
   ],
   "source": [
    "from sklearn.model_selection import GridSearchCV\n",
    "\n",
    "# Define the hyperparameter grid\n",
    "param_grid = {'C': [0.1, 1, 10]}\n",
    "\n",
    "# Initialize the GridSearchCV object with the Logistic Regression model and parameter grid\n",
    "grid_search = GridSearchCV(LogisticRegression(max_iter=1000), param_grid, cv=5, scoring='f1_macro')\n",
    "\n",
    "# Fit the model on the resampled training data\n",
    "grid_search.fit(X_train_resampled, y_train_resampled)\n",
    "\n",
    "# Get the best hyperparameters\n",
    "best_params = grid_search.best_params_\n",
    "\n",
    "# # Train a new model with the best hyperparameters\n",
    "# best_model = LogisticRegression(max_iter=2000, C=best_params['C'], penalty=best_params['penalty'],solver='sag')\n",
    "# best_model.fit(X_train_resampled, y_train_resampled)\n",
    "\n",
    "# Make predictions on the test set\n",
    "y_pred_best = grid_search.predict(X_test)\n",
    "\n",
    "# Evaluate the model\n",
    "accuracy_best = accuracy_score(y_test, y_pred_best)\n",
    "classification_rep_best = classification_report(y_test, y_pred_best)\n",
    "\n",
    "print(f\"Best Hyperparameters: {best_params}\")\n",
    "print(f\"Accuracy with Best Hyperparameters: {accuracy_best}\")\n",
    "print(\"Classification Report with Best Hyperparameters:\")\n",
    "print(classification_rep_best)\n",
    "\n"
   ]
  },
  {
   "cell_type": "code",
   "execution_count": null,
   "id": "YYKIR6BEHCh8",
   "metadata": {
    "id": "YYKIR6BEHCh8"
   },
   "outputs": [],
   "source": [
    "# Interpreting the Results\n",
    "# Accuracy: The accuracy with the best hyperparameters is about 75 which is quite similar to what we had before tuning.\n",
    "\n",
    "# Precision, Recall, F1-Score: The recall and F1-scores for 'Negative' and 'Neutral' reviews remain improved\n",
    "# compared to the initial model. This means the model is still doing a better job at identifying these harder-to-detect \n",
    "# classes.\n",
    "\n",
    "# This limited hyperparameter tuning did not drastically change the performance but did help us identify the best\n",
    "# regularization strength C for our Logistic Regression model. Sometimes the gains from hyperparameter tuning are \n",
    "# marginal, but in some cases, they can be significant."
   ]
  }
 ],
 "metadata": {
  "colab": {
   "provenance": []
  },
  "kernelspec": {
   "display_name": "Python 3 (ipykernel)",
   "language": "python",
   "name": "python3"
  },
  "language_info": {
   "codemirror_mode": {
    "name": "ipython",
    "version": 3
   },
   "file_extension": ".py",
   "mimetype": "text/x-python",
   "name": "python",
   "nbconvert_exporter": "python",
   "pygments_lexer": "ipython3",
   "version": "3.9.12"
  }
 },
 "nbformat": 4,
 "nbformat_minor": 5
}
