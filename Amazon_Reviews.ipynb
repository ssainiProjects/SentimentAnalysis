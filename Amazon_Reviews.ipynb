{
 "cells": [
  {
   "cell_type": "code",
   "execution_count": 2,
   "id": "74e22001",
   "metadata": {
    "id": "74e22001"
   },
   "outputs": [],
   "source": [
    "from imblearn.pipeline import Pipeline\n",
    "from imblearn.over_sampling import RandomOverSampler\n",
    "from sklearn.linear_model import LogisticRegression\n",
    "from sklearn.naive_bayes import MultinomialNB\n",
    "from sklearn.model_selection import GridSearchCV\n",
    "from sklearn.metrics import classification_report\n",
    "import pandas as pd\n",
    "import re\n",
    "from sklearn.model_selection import train_test_split\n",
    "\n",
    "\n",
    "# SENTIMENT ANALYSIS: Amazon Customer Reviews\n",
    "\n",
    "# This project uses a version of the Amazon Review Dataset that was significantly reduced in size.\n",
    "# The aim is to classify reviews into categories: positive, negative, or neutral. This can provide\n",
    "# valuable insights for businesses to understand customer sentiment and improve their products or services.\n",
    "\n",
    "\n",
    "# Load the Amazon Customer Review Dataset\n",
    "\n",
    "\n",
    "df = pd.read_csv(\"C:\\\\Users\\\\ssain\\\\Downloads\\\\amazondata.csv\", low_memory=False)"
   ]
  },
  {
   "cell_type": "code",
   "execution_count": 3,
   "id": "32fc688c",
   "metadata": {
    "colab": {
     "base_uri": "https://localhost:8080/",
     "height": 1000
    },
    "id": "32fc688c",
    "outputId": "071a4c59-da14-4fc9-8d10-e1f62ad0eae8"
   },
   "outputs": [
    {
     "data": {
      "text/html": [
       "<div>\n",
       "<style scoped>\n",
       "    .dataframe tbody tr th:only-of-type {\n",
       "        vertical-align: middle;\n",
       "    }\n",
       "\n",
       "    .dataframe tbody tr th {\n",
       "        vertical-align: top;\n",
       "    }\n",
       "\n",
       "    .dataframe thead th {\n",
       "        text-align: right;\n",
       "    }\n",
       "</style>\n",
       "<table border=\"1\" class=\"dataframe\">\n",
       "  <thead>\n",
       "    <tr style=\"text-align: right;\">\n",
       "      <th></th>\n",
       "      <th>Helpful Votes (bin)</th>\n",
       "      <th>Number of Records</th>\n",
       "      <th>Star Rating (bin)</th>\n",
       "      <th>Customer Id</th>\n",
       "      <th>Helpful Votes</th>\n",
       "      <th>Overall Votes</th>\n",
       "      <th>Product Id</th>\n",
       "      <th>Review Body</th>\n",
       "      <th>Review Year</th>\n",
       "      <th>Review Headline</th>\n",
       "      <th>Star Rating</th>\n",
       "    </tr>\n",
       "  </thead>\n",
       "  <tbody>\n",
       "    <tr>\n",
       "      <th>0</th>\n",
       "      <td>0</td>\n",
       "      <td>1</td>\n",
       "      <td>0</td>\n",
       "      <td>NaN</td>\n",
       "      <td>4.0</td>\n",
       "      <td>14.0</td>\n",
       "      <td>26009102</td>\n",
       "      <td>You will love this book.  It is a hard long re...</td>\n",
       "      <td>03/17/2005 0:00</td>\n",
       "      <td>Best Book Ever</td>\n",
       "      <td>5.0</td>\n",
       "    </tr>\n",
       "    <tr>\n",
       "      <th>1</th>\n",
       "      <td>NaN</td>\n",
       "      <td>1</td>\n",
       "      <td>NaN</td>\n",
       "      <td>NaN</td>\n",
       "      <td>NaN</td>\n",
       "      <td>NaN</td>\n",
       "      <td>7491727</td>\n",
       "      <td>This is the UK edition of Dr. Omit's book. Dr....</td>\n",
       "      <td>NaN</td>\n",
       "      <td>researchers from John Hopkins School of Medici...</td>\n",
       "      <td>NaN</td>\n",
       "    </tr>\n",
       "    <tr>\n",
       "      <th>2</th>\n",
       "      <td>0</td>\n",
       "      <td>1</td>\n",
       "      <td>0</td>\n",
       "      <td>NaN</td>\n",
       "      <td>2.0</td>\n",
       "      <td>2.0</td>\n",
       "      <td>002782683X</td>\n",
       "      <td>This is a fun and entertaining book about lear...</td>\n",
       "      <td>06/25/2012 0:00</td>\n",
       "      <td>Michelle</td>\n",
       "      <td>5.0</td>\n",
       "    </tr>\n",
       "    <tr>\n",
       "      <th>3</th>\n",
       "      <td>0</td>\n",
       "      <td>1</td>\n",
       "      <td>0</td>\n",
       "      <td>NaN</td>\n",
       "      <td>0.0</td>\n",
       "      <td>0.0</td>\n",
       "      <td>60187271</td>\n",
       "      <td>Started a big slow, but once into it the autho...</td>\n",
       "      <td>06/09/2013 0:00</td>\n",
       "      <td>Loved the book</td>\n",
       "      <td>5.0</td>\n",
       "    </tr>\n",
       "    <tr>\n",
       "      <th>4</th>\n",
       "      <td>0</td>\n",
       "      <td>1</td>\n",
       "      <td>0</td>\n",
       "      <td>NaN</td>\n",
       "      <td>14.0</td>\n",
       "      <td>20.0</td>\n",
       "      <td>60392452</td>\n",
       "      <td>Received this book as a Christmas present. I h...</td>\n",
       "      <td>08/05/2003 0:00</td>\n",
       "      <td>Challenges your assumptions</td>\n",
       "      <td>4.0</td>\n",
       "    </tr>\n",
       "    <tr>\n",
       "      <th>...</th>\n",
       "      <td>...</td>\n",
       "      <td>...</td>\n",
       "      <td>...</td>\n",
       "      <td>...</td>\n",
       "      <td>...</td>\n",
       "      <td>...</td>\n",
       "      <td>...</td>\n",
       "      <td>...</td>\n",
       "      <td>...</td>\n",
       "      <td>...</td>\n",
       "      <td>...</td>\n",
       "    </tr>\n",
       "    <tr>\n",
       "      <th>128840</th>\n",
       "      <td>0</td>\n",
       "      <td>1</td>\n",
       "      <td>0</td>\n",
       "      <td>NaN</td>\n",
       "      <td>4.0</td>\n",
       "      <td>6.0</td>\n",
       "      <td>60529148</td>\n",
       "      <td>John Stossel explains within these pages how h...</td>\n",
       "      <td>05/19/2004 0:00</td>\n",
       "      <td>Heroic</td>\n",
       "      <td>4.0</td>\n",
       "    </tr>\n",
       "    <tr>\n",
       "      <th>128841</th>\n",
       "      <td>NaN</td>\n",
       "      <td>1</td>\n",
       "      <td>NaN</td>\n",
       "      <td>NaN</td>\n",
       "      <td>NaN</td>\n",
       "      <td>NaN</td>\n",
       "      <td>60579412</td>\n",
       "      <td>When Bill Clinton said that we were all cold w...</td>\n",
       "      <td>NaN</td>\n",
       "      <td>the record needed to be set straight.  Mona Ch...</td>\n",
       "      <td>NaN</td>\n",
       "    </tr>\n",
       "    <tr>\n",
       "      <th>128842</th>\n",
       "      <td>NaN</td>\n",
       "      <td>1</td>\n",
       "      <td>NaN</td>\n",
       "      <td>NaN</td>\n",
       "      <td>NaN</td>\n",
       "      <td>NaN</td>\n",
       "      <td>60184973</td>\n",
       "      <td>During her reign, Queen Mary foiled several pl...</td>\n",
       "      <td>NaN</td>\n",
       "      <td>Queen of Scots -- but then</td>\n",
       "      <td>NaN</td>\n",
       "    </tr>\n",
       "    <tr>\n",
       "      <th>128843</th>\n",
       "      <td>0</td>\n",
       "      <td>1</td>\n",
       "      <td>0</td>\n",
       "      <td>NaN</td>\n",
       "      <td>1.0</td>\n",
       "      <td>1.0</td>\n",
       "      <td>7444117</td>\n",
       "      <td>I just don't understand how this was supposed ...</td>\n",
       "      <td>03/26/2014 0:00</td>\n",
       "      <td>So upsetting</td>\n",
       "      <td>2.0</td>\n",
       "    </tr>\n",
       "    <tr>\n",
       "      <th>128844</th>\n",
       "      <td>0</td>\n",
       "      <td>1</td>\n",
       "      <td>0</td>\n",
       "      <td>NaN</td>\n",
       "      <td>0.0</td>\n",
       "      <td>0.0</td>\n",
       "      <td>7337701</td>\n",
       "      <td>No one can explain what seems to be the serend...</td>\n",
       "      <td>09/02/2013 0:00</td>\n",
       "      <td>ultimately real and insightful</td>\n",
       "      <td>5.0</td>\n",
       "    </tr>\n",
       "  </tbody>\n",
       "</table>\n",
       "<p>128845 rows × 11 columns</p>\n",
       "</div>"
      ],
      "text/plain": [
       "       Helpful Votes (bin) Number of Records Star Rating (bin)  Customer Id  \\\n",
       "0                        0                 1                 0          NaN   \n",
       "1                      NaN                 1               NaN          NaN   \n",
       "2                        0                 1                 0          NaN   \n",
       "3                        0                 1                 0          NaN   \n",
       "4                        0                 1                 0          NaN   \n",
       "...                    ...               ...               ...          ...   \n",
       "128840                   0                 1                 0          NaN   \n",
       "128841                 NaN                 1               NaN          NaN   \n",
       "128842                 NaN                 1               NaN          NaN   \n",
       "128843                   0                 1                 0          NaN   \n",
       "128844                   0                 1                 0          NaN   \n",
       "\n",
       "        Helpful Votes  Overall Votes  Product Id  \\\n",
       "0                 4.0           14.0    26009102   \n",
       "1                 NaN            NaN     7491727   \n",
       "2                 2.0            2.0  002782683X   \n",
       "3                 0.0            0.0    60187271   \n",
       "4                14.0           20.0    60392452   \n",
       "...               ...            ...         ...   \n",
       "128840            4.0            6.0    60529148   \n",
       "128841            NaN            NaN    60579412   \n",
       "128842            NaN            NaN    60184973   \n",
       "128843            1.0            1.0     7444117   \n",
       "128844            0.0            0.0     7337701   \n",
       "\n",
       "                                              Review Body      Review Year  \\\n",
       "0       You will love this book.  It is a hard long re...  03/17/2005 0:00   \n",
       "1       This is the UK edition of Dr. Omit's book. Dr....              NaN   \n",
       "2       This is a fun and entertaining book about lear...  06/25/2012 0:00   \n",
       "3       Started a big slow, but once into it the autho...  06/09/2013 0:00   \n",
       "4       Received this book as a Christmas present. I h...  08/05/2003 0:00   \n",
       "...                                                   ...              ...   \n",
       "128840  John Stossel explains within these pages how h...  05/19/2004 0:00   \n",
       "128841  When Bill Clinton said that we were all cold w...              NaN   \n",
       "128842  During her reign, Queen Mary foiled several pl...              NaN   \n",
       "128843  I just don't understand how this was supposed ...  03/26/2014 0:00   \n",
       "128844  No one can explain what seems to be the serend...  09/02/2013 0:00   \n",
       "\n",
       "                                          Review Headline  Star Rating  \n",
       "0                                          Best Book Ever          5.0  \n",
       "1       researchers from John Hopkins School of Medici...          NaN  \n",
       "2                                                Michelle          5.0  \n",
       "3                                          Loved the book          5.0  \n",
       "4                             Challenges your assumptions          4.0  \n",
       "...                                                   ...          ...  \n",
       "128840                                             Heroic          4.0  \n",
       "128841  the record needed to be set straight.  Mona Ch...          NaN  \n",
       "128842                         Queen of Scots -- but then          NaN  \n",
       "128843                                       So upsetting          2.0  \n",
       "128844                     ultimately real and insightful          5.0  \n",
       "\n",
       "[128845 rows x 11 columns]"
      ]
     },
     "execution_count": 3,
     "metadata": {},
     "output_type": "execute_result"
    }
   ],
   "source": [
    "# View the dataset\n",
    "df\n"
   ]
  },
  {
   "cell_type": "code",
   "execution_count": 4,
   "id": "397df66d",
   "metadata": {
    "colab": {
     "base_uri": "https://localhost:8080/"
    },
    "id": "397df66d",
    "outputId": "7946800d-ff5f-427d-bf76-496f2631324d"
   },
   "outputs": [
    {
     "data": {
      "text/plain": [
       "(128845, 11)"
      ]
     },
     "execution_count": 4,
     "metadata": {},
     "output_type": "execute_result"
    }
   ],
   "source": [
    "# Number of Rows and Columns:\n",
    "\n",
    "df.shape"
   ]
  },
  {
   "cell_type": "code",
   "execution_count": 5,
   "id": "59329bb0",
   "metadata": {
    "colab": {
     "base_uri": "https://localhost:8080/"
    },
    "id": "59329bb0",
    "outputId": "4d11ce43-7aaf-4347-eb08-12c0f9756e84"
   },
   "outputs": [
    {
     "data": {
      "text/plain": [
       "Helpful Votes (bin)     object\n",
       "Number of Records       object\n",
       "Star Rating (bin)       object\n",
       "Customer Id            float64\n",
       "Helpful Votes          float64\n",
       "Overall Votes          float64\n",
       "Product Id              object\n",
       "Review Body             object\n",
       "Review Year             object\n",
       "Review Headline         object\n",
       "Star Rating            float64\n",
       "dtype: object"
      ]
     },
     "execution_count": 5,
     "metadata": {},
     "output_type": "execute_result"
    }
   ],
   "source": [
    "# column datatypes\n",
    "\n",
    "df.dtypes"
   ]
  },
  {
   "cell_type": "code",
   "execution_count": 6,
   "id": "4fcccde1",
   "metadata": {
    "colab": {
     "base_uri": "https://localhost:8080/"
    },
    "id": "4fcccde1",
    "outputId": "1caefc90-df7f-4754-812b-663a0e8a100a"
   },
   "outputs": [
    {
     "data": {
      "text/plain": [
       "Helpful Votes (bin)    13898\n",
       "Number of Records          2\n",
       "Star Rating (bin)      12534\n",
       "Customer Id            68865\n",
       "Helpful Votes          13902\n",
       "Overall Votes          12724\n",
       "Product Id                 5\n",
       "Review Body               11\n",
       "Review Year            13912\n",
       "Review Headline           14\n",
       "Star Rating            12540\n",
       "dtype: int64"
      ]
     },
     "execution_count": 6,
     "metadata": {},
     "output_type": "execute_result"
    }
   ],
   "source": [
    "# Missing values\n",
    "\n",
    "df.isnull().sum()"
   ]
  },
  {
   "cell_type": "markdown",
   "id": "fea38c7c",
   "metadata": {
    "id": "fea38c7c"
   },
   "source": [
    "DATA PREPROCESSING:"
   ]
  },
  {
   "cell_type": "code",
   "execution_count": 11,
   "id": "2789a9a4",
   "metadata": {
    "id": "2789a9a4"
   },
   "outputs": [],
   "source": [
    "# The key tasks in this stage will be:\n",
    "\n",
    "# Handling Missing Values: Removing or imputing missing values in crucial columns like \n",
    "#'Review Body' and 'Star Rating'.\n",
    "\n",
    "# Type Conversion: Converting the data types of columns, if necessary.\n",
    "\n",
    "# Text Cleaning: Removing special characters, converting all text to lowercase, etc., in the\n",
    "# 'Review Body' column."
   ]
  },
  {
   "cell_type": "code",
   "execution_count": 12,
   "id": "7c4a2698",
   "metadata": {
    "id": "7c4a2698"
   },
   "outputs": [],
   "source": [
    "# We have:\n",
    "\n",
    "# 11 missing values in the 'Review Body' column\n",
    "# 12,540 missing values in the 'Star Rating' column\n",
    "\n",
    "# Handling Missing Values:\n",
    "#'Review Body': Given that there are only 11 missing values, it's reasonable to simply remove these\n",
    "# rows from the dataset. The 'Review Body' is crucial for our text-based sentiment analysis.\n",
    "\n",
    "# 'Star Rating': We have a larger number of missing values here. Since we're planning to use 'Star Rating'\n",
    "# as labels for training our sentiment analysis model, rows with missing 'Star Rating' won't be useful.\n",
    "# We should  remove these as well."
   ]
  },
  {
   "cell_type": "code",
   "execution_count": 7,
   "id": "9095c62f",
   "metadata": {
    "colab": {
     "base_uri": "https://localhost:8080/"
    },
    "id": "9095c62f",
    "outputId": "d63df141-88b2-4df6-cb4d-953a4ce4f20e"
   },
   "outputs": [
    {
     "name": "stdout",
     "output_type": "stream",
     "text": [
      "Number of rows after cleaning: 116299\n",
      "Number of columns: 11\n",
      "Missing values in 'Review Body': 0\n",
      "Missing values in 'Star Rating': 0\n"
     ]
    }
   ],
   "source": [
    "# Remove rows with missing values in the key columns\n",
    "df_clean = df.dropna(subset=['Review Body', 'Star Rating']).copy()\n",
    "\n",
    "# Check the new dimensions of the DataFrame and verify the missing values are removed\n",
    "num_rows_clean, num_cols_clean = df_clean.shape\n",
    "missing_review_body_clean = df_clean['Review Body'].isnull().sum()\n",
    "missing_star_rating_clean = df_clean['Star Rating'].isnull().sum()\n",
    "\n",
    "print(f\"Number of rows after cleaning: {num_rows_clean}\")\n",
    "print(f\"Number of columns: {num_cols_clean}\")\n",
    "print(f\"Missing values in 'Review Body': {missing_review_body_clean}\")\n",
    "print(f\"Missing values in 'Star Rating': {missing_star_rating_clean}\")\n"
   ]
  },
  {
   "cell_type": "code",
   "execution_count": 8,
   "id": "6743bd44",
   "metadata": {
    "colab": {
     "base_uri": "https://localhost:8080/"
    },
    "id": "6743bd44",
    "outputId": "eb1289c7-d725-43ff-966f-462b0aef2628"
   },
   "outputs": [
    {
     "name": "stdout",
     "output_type": "stream",
     "text": [
      "                                         Review Body  \\\n",
      "0  You will love this book.  It is a hard long re...   \n",
      "2  This is a fun and entertaining book about lear...   \n",
      "3  Started a big slow, but once into it the autho...   \n",
      "4  Received this book as a Christmas present. I h...   \n",
      "6  Ugly Impostor, discernible face, self esteem r...   \n",
      "\n",
      "                                 Cleaned_Review_Body  \n",
      "0  you will love this book  it is a hard long rea...  \n",
      "2  this is a fun and entertaining book about lear...  \n",
      "3  started a big slow but once into it the author...  \n",
      "4  received this book as a christmas present i ha...  \n",
      "6  ugly impostor discernible face self esteem rel...  \n"
     ]
    }
   ],
   "source": [
    "# We'll remove special characters and convert all text to lowercase.\n",
    "\n",
    "# The expression re.sub(r'[^\\w\\s]', '', text) effectively removes all special characters\n",
    "# from the input text,leaving only alphanumeric characters and spaces.\n",
    "\n",
    "# Function to clean text\n",
    "def clean_text(text):\n",
    "    text = re.sub(r'[^\\w\\s]', '', text)  # Remove special characters\n",
    "    text = text.lower()  # Convert text to lowercase\n",
    "    return text\n",
    "\n",
    "# Apply the function to the 'Review Body' column\n",
    "df_clean['Cleaned_Review_Body'] = df_clean['Review Body'].apply(clean_text)\n",
    "\n",
    "# Check the first few rows to see the cleaned text\n",
    "print(df_clean[['Review Body', 'Cleaned_Review_Body']].head())\n"
   ]
  },
  {
   "cell_type": "code",
   "execution_count": 9,
   "id": "d152d609",
   "metadata": {
    "colab": {
     "base_uri": "https://localhost:8080/"
    },
    "id": "d152d609",
    "outputId": "16e99b56-2f1e-406b-b732-ea72fe0d476a"
   },
   "outputs": [
    {
     "name": "stdout",
     "output_type": "stream",
     "text": [
      "Unique values in 'Star Rating': [0.0, 1.0, 2.0, 3.0, 4.0, 5.0, 6.0, 7.0, 8.0, 9.0, 10.0, 11.0, 12.0, 13.0, 14.0, 15.0, 16.0, 17.0, 18.0, 19.0, 20.0, 21.0, 22.0, 23.0, 24.0, 25.0, 26.0, 27.0, 28.0, 29.0, 30.0, 31.0, 32.0, 33.0, 34.0, 35.0, 36.0, 37.0, 38.0, 40.0, 41.0, 42.0, 43.0, 44.0, 47.0, 49.0, 52.0, 53.0, 54.0, 57.0, 58.0, 62.0, 63.0, 64.0, 68.0, 69.0, 73.0, 74.0, 101.0, 102.0, 112.0, 119.0, 125.0, 131.0, 152.0, 159.0, 171.0, 177.0, 190.0, 235.0, 2008.0]\n"
     ]
    }
   ],
   "source": [
    "# Check unique values in 'Star Rating'\n",
    "unique_star_ratings = df_clean['Star Rating'].unique()\n",
    "print(f\"Unique values in 'Star Rating': {sorted(unique_star_ratings)}\")\n"
   ]
  },
  {
   "cell_type": "code",
   "execution_count": 16,
   "id": "9ddbdc09",
   "metadata": {
    "id": "9ddbdc09"
   },
   "outputs": [],
   "source": [
    "# remove rows which have star rating that are not between 1-5. These ratings are likely erroneous.\n",
    "df_filtered = df_clean[df_clean['Star Rating'].between(1, 5)].copy()"
   ]
  },
  {
   "cell_type": "code",
   "execution_count": 17,
   "id": "7ce82744",
   "metadata": {
    "colab": {
     "base_uri": "https://localhost:8080/",
     "height": 581
    },
    "id": "7ce82744",
    "outputId": "19acba8c-06ec-4fb1-aa24-bd8ba1cb54ee"
   },
   "outputs": [
    {
     "data": {
      "image/png": "[encoded data removed]",
      "text/plain": [
       "<Figure size 1000x600 with 1 Axes>"
      ]
     },
     "metadata": {},
     "output_type": "display_data"
    },
    {
     "data": {
      "text/plain": [
       "(115552, 12)"
      ]
     },
     "execution_count": 17,
     "metadata": {},
     "output_type": "execute_result"
    }
   ],
   "source": [
    "# plot the distribution of 'Star Rating'\n",
    "\n",
    "import matplotlib.pyplot as plt\n",
    "import seaborn as sns\n",
    "\n",
    "new_shape = df_filtered.shape\n",
    "\n",
    "\n",
    "plt.figure(figsize=(10, 6))\n",
    "sns.countplot(x='Star Rating', data=df_filtered)\n",
    "plt.title('Distribution of Star Ratings')\n",
    "plt.xlabel('Star Rating')\n",
    "plt.ylabel('Count')\n",
    "plt.show()\n",
    "\n",
    "new_shape"
   ]
  },
  {
   "cell_type": "code",
   "execution_count": null,
   "id": "aab500be",
   "metadata": {
    "id": "aab500be"
   },
   "outputs": [],
   "source": []
  },
  {
   "cell_type": "markdown",
   "id": "d6efff98",
   "metadata": {
    "id": "d6efff98"
   },
   "source": [
    "FEATURE ENGINEERING"
   ]
  },
  {
   "cell_type": "code",
   "execution_count": 18,
   "id": "32769c86",
   "metadata": {
    "id": "32769c86"
   },
   "outputs": [],
   "source": [
    "# In this stage, we'll convert the text data from the 'Review Body' column into a numerical format\n",
    "# that can be fed into machine learning algorithms.\n",
    "\n",
    "# For this project, let's start with the TF-IDF approach, which is a commonly used technique that takes into\n",
    "# account not just the occurrence of words in a single document (or review, in our case) but in the entire\n",
    "# corpus of documents."
   ]
  },
  {
   "cell_type": "code",
   "execution_count": 19,
   "id": "3cb350f7",
   "metadata": {
    "colab": {
     "base_uri": "https://localhost:8080/"
    },
    "id": "3cb350f7",
    "outputId": "45c52555-9ac1-466c-b88d-b837f5736afc"
   },
   "outputs": [
    {
     "data": {
      "text/plain": [
       "(115552, 5000)"
      ]
     },
     "execution_count": 19,
     "metadata": {},
     "output_type": "execute_result"
    }
   ],
   "source": [
    "from sklearn.feature_extraction.text import TfidfVectorizer\n",
    "\n",
    "# Initialize the TF-IDF vectorizer\n",
    "# Limit to 5000 most frequent words to save memory and processing time\n",
    "tfidf_vectorizer = TfidfVectorizer(max_features=5000)  \n",
    "\n",
    "# Fit and transform the 'Cleaned_Review_Body' column\n",
    "tfidf_matrix = tfidf_vectorizer.fit_transform(df_filtered['Cleaned_Review_Body'])\n",
    "\n",
    "# Check the shape of the resulting TF-IDF matrix\n",
    "tfidf_shape = tfidf_matrix.shape\n",
    "tfidf_shape\n",
    "\n",
    "# The shape of the TF-IDF matrix indicates that we have successfully transformed 115,552 reviews into numerical\n",
    "# vectors, each containing the TF-IDF scores for up to 5,000 unique words. This matrix will serve as the input\n",
    "# for our machine learning model."
   ]
  },
  {
   "cell_type": "code",
   "execution_count": 20,
   "id": "009789d2",
   "metadata": {
    "colab": {
     "base_uri": "https://localhost:8080/"
    },
    "id": "009789d2",
    "outputId": "7de67cee-16dc-4f07-d236-148881bddd95"
   },
   "outputs": [
    {
     "data": {
      "text/plain": [
       "Positive    94898\n",
       "Negative    10598\n",
       "Neutral     10056\n",
       "Name: Label, dtype: int64"
      ]
     },
     "execution_count": 20,
     "metadata": {},
     "output_type": "execute_result"
    }
   ],
   "source": [
    "# Create labels based on 'Star Rating'\n",
    "def create_label(rating):\n",
    "    if rating in [1, 2]:\n",
    "        return 'Negative'\n",
    "    elif rating == 3:\n",
    "        return 'Neutral'\n",
    "    else:\n",
    "        return 'Positive'\n",
    "\n",
    "# Apply the function to create a new 'Label' column\n",
    "df_filtered['Label'] = df_filtered['Star Rating'].apply(create_label)\n",
    "\n",
    "\n",
    "# Check the distribution of the labels\n",
    "label_distribution = df_filtered['Label'].value_counts()\n",
    "label_distribution"
   ]
  },
  {
   "cell_type": "code",
   "execution_count": 23,
   "id": "8577713f",
   "metadata": {},
   "outputs": [
    {
     "data": {
      "text/plain": [
       "((92441, 5000), (23111, 5000), (92441,), (23111,))"
      ]
     },
     "execution_count": 23,
     "metadata": {},
     "output_type": "execute_result"
    }
   ],
   "source": [
    "\n",
    "# Split the TF-IDF matrix and labels into training and testing sets\n",
    "X_train, X_test, y_train, y_test = train_test_split(tfidf_matrix, df_filtered['Label'], test_size=0.2, random_state=42)\n",
    "\n",
    "# Check the shape of the resulting objects\n",
    "X_train.shape, X_test.shape, y_train.shape, y_test.shape"
   ]
  },
  {
   "cell_type": "code",
   "execution_count": 21,
   "id": "16386a0f",
   "metadata": {
    "id": "16386a0f"
   },
   "outputs": [],
   "source": [
    "# MODELING- Logistic Regression and Naive Bayes"
   ]
  },
  {
   "cell_type": "code",
   "execution_count": 27,
   "id": "daf13984",
   "metadata": {},
   "outputs": [
    {
     "name": "stdout",
     "output_type": "stream",
     "text": [
      "Best parameters for Logistic Regression: {'classifier__C': 1, 'classifier__penalty': 'l2', 'classifier__solver': 'liblinear'}\n",
      "Classification Report for Logistic Regression:\n",
      "              precision    recall  f1-score   support\n",
      "\n",
      "    Negative       0.42      0.64      0.51      2105\n",
      "     Neutral       0.27      0.52      0.35      2097\n",
      "    Positive       0.96      0.80      0.87     18909\n",
      "\n",
      "    accuracy                           0.76     23111\n",
      "   macro avg       0.55      0.65      0.58     23111\n",
      "weighted avg       0.85      0.76      0.79     23111\n",
      "\n",
      "------------------------------------------------------------\n",
      "Best parameters for Naive Bayes: {'classifier__alpha': 0.5}\n",
      "Classification Report for Naive Bayes:\n",
      "              precision    recall  f1-score   support\n",
      "\n",
      "    Negative       0.38      0.62      0.47      2105\n",
      "     Neutral       0.25      0.57      0.34      2097\n",
      "    Positive       0.96      0.75      0.84     18909\n",
      "\n",
      "    accuracy                           0.72     23111\n",
      "   macro avg       0.53      0.65      0.55     23111\n",
      "weighted avg       0.84      0.72      0.76     23111\n",
      "\n",
      "------------------------------------------------------------\n"
     ]
    }
   ],
   "source": [
    "# Model Training and Hyperparameter Optimization with Cross-Validation\n",
    "\n",
    "# To maintain the integrity of the validation process and avoid data leakage, I'm integrating\n",
    "# the resampling method within a pipeline for each classifier. The pipeline includes two main steps:\n",
    "# 'resampling', where we apply Random Over Sampling, and 'classifier', where we employ the actual\n",
    "# machine learning model (either Logistic Regression or Naive Bayes). This ensures that during each\n",
    "# fold of the cross-validation process in GridSearchCV, only the training portion is resampled, leaving\n",
    "# the validation set untouched.\n",
    "\n",
    "# For hyperparameter tuning, GridSearchCV is employed with a specified range of hyperparameter values\n",
    "# for each classifier. Specifically, for Logistic Regression, I experiment with different regularization\n",
    "# strengths and penalty types, while for Naive Bayes, I explore varying smoothing parameters. \n",
    "# The best hyperparameters for each model are selected based on a 3-fold cross-validation.\n",
    "\n",
    "# Once the best hyperparameters are determined, the model is trained on the entire resampled\n",
    "# training set and evaluated on the final test set\n",
    "\n",
    "\n",
    "\n",
    "# Hyperparameters and models\n",
    "models_and_parameters = [\n",
    "    {\n",
    "        \"name\": \"Logistic Regression\",\n",
    "        \"model\": LogisticRegression(max_iter=2000, random_state=42),\n",
    "        \"params\": {\n",
    "            \"classifier__C\": [0.1, 1, 10],\n",
    "            \"classifier__penalty\": [\"l1\", \"l2\"],\n",
    "            \"classifier__solver\": [\"liblinear\"]\n",
    "        }\n",
    "    },\n",
    "    {\n",
    "        \"name\": \"Naive Bayes\",\n",
    "        \"model\": MultinomialNB(),\n",
    "        \"params\": {\n",
    "            \"classifier__alpha\": [0.5, 1, 2]\n",
    "        }\n",
    "    }\n",
    "]\n",
    "\n",
    "# Loop through models and hyperparameters, then print classification report\n",
    "for mp in models_and_parameters:\n",
    "    model_name = mp[\"name\"]\n",
    "    model = mp[\"model\"]\n",
    "    params = mp[\"params\"]\n",
    "\n",
    "    # Create a pipeline\n",
    "    pipeline = Pipeline([\n",
    "        ('resampling', RandomOverSampler(random_state=42)),\n",
    "        ('classifier', model)\n",
    "    ])\n",
    "\n",
    "    # Grid Search with the pipeline\n",
    "    grid_search = GridSearchCV(pipeline, param_grid=params, cv=3)\n",
    "    grid_search.fit(X_train, y_train)\n",
    "\n",
    "    # Print the best parameters for each model\n",
    "    print(f\"Best parameters for {model_name}: {grid_search.best_params_}\")\n",
    "\n",
    "    # Make predictions on the test data\n",
    "    y_pred = grid_search.predict(X_test)\n",
    "\n",
    "    print(f\"Classification Report for {model_name}:\")\n",
    "    print(classification_report(y_test, y_pred))\n",
    "    print(\"-\" * 60)\n"
   ]
  },
  {
   "cell_type": "code",
   "execution_count": 28,
   "id": "cfeb7b28",
   "metadata": {},
   "outputs": [],
   "source": [
    "# Observations:\n",
    "# Accuracy: Logistic Regression performs slightly better in terms of overall accuracy (76% vs 72%).\n",
    "\n",
    "# Class-wise Performance: Both models struggle with the \"Neutral\" and \"Negative\" classes but perform \n",
    "# well on the \"Positive\" class. This is likely due to the class imbalance in the dataset.\n",
    "\n",
    "# Recall: Both models have reasonably high recall for the \"Negative\" and \"Neutral\" classes, which means\n",
    "# they are good at capturing the respective classes. However, the precision for these classes is lower,\n",
    "# indicating a higher false positive rate.\n",
    "\n",
    "# Positive Class: Both models have high precision but relatively lower recall for the \"Positive\" class.\n",
    "# This suggests that when the models predict a review as positive, they are usually correct, but they\n",
    "# miss a fair number of actual positive reviews.\n",
    "\n",
    "# Hyperparameters: The best performing Logistic Regression model used L2 regularization with a \n",
    "# strength (C) of 1 and the 'liblinear' solver. For Naive Bayes, a smoothing parameter (alpha)\n",
    "# of 0.5 was optimal.\n",
    "\n",
    "# Logistic Regression seems to offer a better balance of precision and recall across all \n",
    "# classes based on the F1-scores. While the models do an okay job, especially for the \"Positive\" class,\n",
    "# they are far from ideal for the \"Neutral\" and \"Negative\" classes. \n"
   ]
  },
  {
   "cell_type": "code",
   "execution_count": null,
   "id": "077d59ba",
   "metadata": {},
   "outputs": [],
   "source": []
  }
 ],
 "metadata": {
  "colab": {
   "provenance": []
  },
  "kernelspec": {
   "display_name": "Python 3 (ipykernel)",
   "language": "python",
   "name": "python3"
  },
  "language_info": {
   "codemirror_mode": {
    "name": "ipython",
    "version": 3
   },
   "file_extension": ".py",
   "mimetype": "text/x-python",
   "name": "python",
   "nbconvert_exporter": "python",
   "pygments_lexer": "ipython3",
   "version": "3.9.12"
  }
 },
 "nbformat": 4,
 "nbformat_minor": 5
}
